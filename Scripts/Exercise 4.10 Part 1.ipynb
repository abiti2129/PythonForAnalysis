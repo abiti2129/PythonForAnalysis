{
 "cells": [
  {
   "cell_type": "markdown",
   "id": "b6624892",
   "metadata": {},
   "source": [
    "# Q1 Importing libraries & Dataset"
   ]
  },
  {
   "cell_type": "code",
   "execution_count": 1,
   "id": "8500641f",
   "metadata": {},
   "outputs": [],
   "source": [
    "#import libraries\n",
    "import pandas as pd\n",
    "import numpy as np\n",
    "import os\n",
    "import matplotlib.pyplot as plt\n",
    "import seaborn as sns\n",
    "import scipy"
   ]
  },
  {
   "cell_type": "code",
   "execution_count": 2,
   "id": "d3a89bfe",
   "metadata": {},
   "outputs": [],
   "source": [
    "#Importing Path\n",
    "path = r\"C:\\Users\\abiya\\01-2023 Instacart Basket Analysis\""
   ]
  },
  {
   "cell_type": "code",
   "execution_count": 3,
   "id": "b204d7aa",
   "metadata": {},
   "outputs": [],
   "source": [
    "# Importing the most updated dataframe\n",
    "df_ords_prods_all = pd.read_pickle(os.path.join(path, 'Data','Prepared Data', 'orders_products_merged_all.pkl'))"
   ]
  },
  {
   "cell_type": "markdown",
   "id": "06645e90",
   "metadata": {},
   "source": [
    "# Q2 Addressing Data Security"
   ]
  },
  {
   "cell_type": "code",
   "execution_count": 4,
   "id": "b0634fe3",
   "metadata": {},
   "outputs": [
    {
     "name": "stdout",
     "output_type": "stream",
     "text": [
      "<class 'pandas.core.frame.DataFrame'>\n",
      "Int64Index: 32434212 entries, 0 to 32434211\n",
      "Data columns (total 34 columns):\n",
      " #   Column                  Dtype   \n",
      "---  ------                  -----   \n",
      " 0   Unnamed: 0.1            int64   \n",
      " 1   Unnamed: 0              int64   \n",
      " 2   order_id                int64   \n",
      " 3   user_id                 int64   \n",
      " 4   eval_set                object  \n",
      " 5   order_number            int64   \n",
      " 6   order_dow               int64   \n",
      " 7   order_hour_of_day       int64   \n",
      " 8   days_since_prior_order  float64 \n",
      " 9   product_id              int64   \n",
      " 10  add_to_cart_order       int64   \n",
      " 11  reordered               int64   \n",
      " 12  product_name            object  \n",
      " 13  aisle_id                int64   \n",
      " 14  department_id           int64   \n",
      " 15  prices                  float64 \n",
      " 16  _merge                  category\n",
      " 17  price_range_loc         object  \n",
      " 18  busiest_day             object  \n",
      " 19  busiest_days            object  \n",
      " 20  busiest_period_of_day   object  \n",
      " 21  max_order               int64   \n",
      " 22  loyalty_flag            object  \n",
      " 23  average_price           float64 \n",
      " 24  spending_flag           object  \n",
      " 25  median_prior_orders     float64 \n",
      " 26  order_frequency_flag    object  \n",
      " 27  gender                  object  \n",
      " 28  state                   object  \n",
      " 29  age                     int64   \n",
      " 30  date_joined             object  \n",
      " 31  number_dependants       int64   \n",
      " 32  family_status           object  \n",
      " 33  income                  int64   \n",
      "dtypes: category(1), float64(4), int64(16), object(13)\n",
      "memory usage: 8.2+ GB\n"
     ]
    }
   ],
   "source": [
    "df_ords_prods_all.info()"
   ]
  },
  {
   "cell_type": "markdown",
   "id": "4ef74cdb",
   "metadata": {},
   "source": [
    "# Q3 Creating regional segmentation of the dataset"
   ]
  },
  {
   "cell_type": "code",
   "execution_count": 5,
   "id": "f0052350",
   "metadata": {},
   "outputs": [],
   "source": [
    "#Creating states within regions\n",
    "region = []\n",
    "for value in df_ords_prods_all['state']:\n",
    "    if (value == 'Maine') or (value == 'New Hampshire') or (value == 'Vermont') or (value == 'Massachusetts') or (value == 'Rhode Island') or (value == 'Connecticut') or (value == 'New York') or (value == 'Pennsylvania') or (value =='New Jersey'):\n",
    "        region.append('Northeast')\n",
    "    elif (value == 'Wisconsin') or (value == 'Michigan') or (value == 'Illinois') or (value == 'Indiana') or (value == 'Ohio') or (value == 'North Dakota') or (value == 'South Dakota') or (value == 'Nebraska') or (value == 'Kansas') or (value == 'Minnesota') or (value == 'Iowa') or (value == 'Missouri'):\n",
    "        region.append('Midwest')\n",
    "    elif (value == 'Idaho') or (value == 'Montana') or (value == 'Wyoming') or (value == 'Nevada') or (value == 'Utah') or (value == 'Colorado') or (value == 'Arizona') or (value == 'New Mexico') or (value == 'Alaska') or (value == 'Washington') or (value == 'Oregon') or (value == 'California') or (value == 'Hawaii'):\n",
    "        region.append('West')\n",
    "    else:\n",
    "        region.append('South')"
   ]
  },
  {
   "cell_type": "code",
   "execution_count": 6,
   "id": "ba2acc52",
   "metadata": {},
   "outputs": [],
   "source": [
    "#Creating the region column\n",
    "df_ords_prods_all['region'] = region"
   ]
  },
  {
   "cell_type": "code",
   "execution_count": 7,
   "id": "cd92e5ec",
   "metadata": {},
   "outputs": [
    {
     "data": {
      "text/plain": [
       "South        10801610\n",
       "West          8300445\n",
       "Midwest       7603810\n",
       "Northeast     5728347\n",
       "Name: region, dtype: int64"
      ]
     },
     "execution_count": 7,
     "metadata": {},
     "output_type": "execute_result"
    }
   ],
   "source": [
    "df_ords_prods_all['region'].value_counts(dropna = False)"
   ]
  },
  {
   "cell_type": "code",
   "execution_count": 8,
   "id": "127def0b",
   "metadata": {},
   "outputs": [],
   "source": [
    "region_spend = pd.crosstab(df_ords_prods_all['region'],df_ords_prods_all['spending_flag'],dropna = False)"
   ]
  },
  {
   "cell_type": "code",
   "execution_count": 9,
   "id": "59cfdc72",
   "metadata": {},
   "outputs": [],
   "source": [
    "region_spend.to_clipboard()"
   ]
  },
  {
   "cell_type": "code",
   "execution_count": 10,
   "id": "daf7ff38",
   "metadata": {},
   "outputs": [
    {
     "data": {
      "text/html": [
       "<div>\n",
       "<style scoped>\n",
       "    .dataframe tbody tr th:only-of-type {\n",
       "        vertical-align: middle;\n",
       "    }\n",
       "\n",
       "    .dataframe tbody tr th {\n",
       "        vertical-align: top;\n",
       "    }\n",
       "\n",
       "    .dataframe thead th {\n",
       "        text-align: right;\n",
       "    }\n",
       "</style>\n",
       "<table border=\"1\" class=\"dataframe\">\n",
       "  <thead>\n",
       "    <tr style=\"text-align: right;\">\n",
       "      <th>spending_flag</th>\n",
       "      <th>High spender</th>\n",
       "      <th>Low spender</th>\n",
       "    </tr>\n",
       "    <tr>\n",
       "      <th>region</th>\n",
       "      <th></th>\n",
       "      <th></th>\n",
       "    </tr>\n",
       "  </thead>\n",
       "  <tbody>\n",
       "    <tr>\n",
       "      <th>Midwest</th>\n",
       "      <td>156308</td>\n",
       "      <td>7447502</td>\n",
       "    </tr>\n",
       "    <tr>\n",
       "      <th>Northeast</th>\n",
       "      <td>108363</td>\n",
       "      <td>5619984</td>\n",
       "    </tr>\n",
       "    <tr>\n",
       "      <th>South</th>\n",
       "      <td>210508</td>\n",
       "      <td>10591102</td>\n",
       "    </tr>\n",
       "    <tr>\n",
       "      <th>West</th>\n",
       "      <td>160931</td>\n",
       "      <td>8139514</td>\n",
       "    </tr>\n",
       "  </tbody>\n",
       "</table>\n",
       "</div>"
      ],
      "text/plain": [
       "spending_flag  High spender  Low spender\n",
       "region                                  \n",
       "Midwest              156308      7447502\n",
       "Northeast            108363      5619984\n",
       "South                210508     10591102\n",
       "West                 160931      8139514"
      ]
     },
     "execution_count": 10,
     "metadata": {},
     "output_type": "execute_result"
    }
   ],
   "source": [
    "region_spend"
   ]
  },
  {
   "cell_type": "markdown",
   "id": "6e712397",
   "metadata": {},
   "source": [
    "# Q4 Creating an exclusion flag"
   ]
  },
  {
   "cell_type": "code",
   "execution_count": 11,
   "id": "42ef5e65",
   "metadata": {},
   "outputs": [],
   "source": [
    "df_ords_prods_all.loc[df_ords_prods_all['max_order'] < 5, 'low_order_flag'] = 'Low order customer'"
   ]
  },
  {
   "cell_type": "code",
   "execution_count": 12,
   "id": "89f1076d",
   "metadata": {},
   "outputs": [],
   "source": [
    "df_ords_prods_all.loc[df_ords_prods_all['max_order'] >= 5, 'low_order_flag'] = 'High order customer'"
   ]
  },
  {
   "cell_type": "code",
   "execution_count": 13,
   "id": "19596f58",
   "metadata": {},
   "outputs": [
    {
     "data": {
      "text/plain": [
       "High order customer    30992664\n",
       "Low order customer      1441548\n",
       "Name: low_order_flag, dtype: int64"
      ]
     },
     "execution_count": 13,
     "metadata": {},
     "output_type": "execute_result"
    }
   ],
   "source": [
    "df_ords_prods_all['low_order_flag'].value_counts(dropna = False)"
   ]
  },
  {
   "cell_type": "code",
   "execution_count": 14,
   "id": "df2280bf",
   "metadata": {},
   "outputs": [],
   "source": [
    "#Creating high order customer subset\n",
    "df_high_order_customers = df_ords_prods_all[df_ords_prods_all['low_order_flag'] == 'High order customer']"
   ]
  },
  {
   "cell_type": "code",
   "execution_count": 15,
   "id": "331960d8",
   "metadata": {},
   "outputs": [],
   "source": [
    "df_high_order_customers.to_pickle(os.path.join(path, 'Data','Prepared Data', 'high_order_customers.pkl'))"
   ]
  },
  {
   "cell_type": "markdown",
   "id": "31ab9f70",
   "metadata": {},
   "source": [
    "# Q5 Creating Customer Profiles"
   ]
  },
  {
   "cell_type": "code",
   "execution_count": 16,
   "id": "61d86bb3",
   "metadata": {},
   "outputs": [
    {
     "data": {
      "text/html": [
       "<div>\n",
       "<style scoped>\n",
       "    .dataframe tbody tr th:only-of-type {\n",
       "        vertical-align: middle;\n",
       "    }\n",
       "\n",
       "    .dataframe tbody tr th {\n",
       "        vertical-align: top;\n",
       "    }\n",
       "\n",
       "    .dataframe thead th {\n",
       "        text-align: right;\n",
       "    }\n",
       "</style>\n",
       "<table border=\"1\" class=\"dataframe\">\n",
       "  <thead>\n",
       "    <tr style=\"text-align: right;\">\n",
       "      <th></th>\n",
       "      <th>Unnamed: 0.1</th>\n",
       "      <th>Unnamed: 0</th>\n",
       "      <th>order_id</th>\n",
       "      <th>user_id</th>\n",
       "      <th>order_number</th>\n",
       "      <th>order_dow</th>\n",
       "      <th>order_hour_of_day</th>\n",
       "      <th>days_since_prior_order</th>\n",
       "      <th>product_id</th>\n",
       "      <th>add_to_cart_order</th>\n",
       "      <th>reordered</th>\n",
       "      <th>aisle_id</th>\n",
       "      <th>department_id</th>\n",
       "      <th>prices</th>\n",
       "      <th>max_order</th>\n",
       "      <th>average_price</th>\n",
       "      <th>median_prior_orders</th>\n",
       "      <th>age</th>\n",
       "      <th>number_dependants</th>\n",
       "      <th>income</th>\n",
       "    </tr>\n",
       "  </thead>\n",
       "  <tbody>\n",
       "    <tr>\n",
       "      <th>count</th>\n",
       "      <td>3.243421e+07</td>\n",
       "      <td>3.243421e+07</td>\n",
       "      <td>3.243421e+07</td>\n",
       "      <td>3.243421e+07</td>\n",
       "      <td>3.243421e+07</td>\n",
       "      <td>3.243421e+07</td>\n",
       "      <td>3.243421e+07</td>\n",
       "      <td>3.243421e+07</td>\n",
       "      <td>3.243421e+07</td>\n",
       "      <td>3.243421e+07</td>\n",
       "      <td>3.243421e+07</td>\n",
       "      <td>3.243421e+07</td>\n",
       "      <td>3.243421e+07</td>\n",
       "      <td>3.243421e+07</td>\n",
       "      <td>3.243421e+07</td>\n",
       "      <td>3.243421e+07</td>\n",
       "      <td>3.243421e+07</td>\n",
       "      <td>3.243421e+07</td>\n",
       "      <td>3.243421e+07</td>\n",
       "      <td>3.243421e+07</td>\n",
       "    </tr>\n",
       "    <tr>\n",
       "      <th>mean</th>\n",
       "      <td>1.709860e+06</td>\n",
       "      <td>1.709860e+06</td>\n",
       "      <td>1.710748e+06</td>\n",
       "      <td>1.029374e+05</td>\n",
       "      <td>1.714192e+01</td>\n",
       "      <td>2.738810e+00</td>\n",
       "      <td>1.342500e+01</td>\n",
       "      <td>1.110485e+01</td>\n",
       "      <td>2.557778e+04</td>\n",
       "      <td>8.351176e+00</td>\n",
       "      <td>5.896888e-01</td>\n",
       "      <td>7.121649e+01</td>\n",
       "      <td>9.922231e+00</td>\n",
       "      <td>1.198114e+01</td>\n",
       "      <td>3.305217e+01</td>\n",
       "      <td>1.198115e+01</td>\n",
       "      <td>1.002913e+01</td>\n",
       "      <td>4.946521e+01</td>\n",
       "      <td>1.501872e+00</td>\n",
       "      <td>9.943525e+04</td>\n",
       "    </tr>\n",
       "    <tr>\n",
       "      <th>std</th>\n",
       "      <td>9.864638e+05</td>\n",
       "      <td>9.864638e+05</td>\n",
       "      <td>9.872996e+05</td>\n",
       "      <td>5.946649e+04</td>\n",
       "      <td>1.753489e+01</td>\n",
       "      <td>2.090047e+00</td>\n",
       "      <td>4.246351e+00</td>\n",
       "      <td>8.493052e+00</td>\n",
       "      <td>1.409614e+04</td>\n",
       "      <td>7.126688e+00</td>\n",
       "      <td>4.918902e-01</td>\n",
       "      <td>3.820429e+01</td>\n",
       "      <td>6.281190e+00</td>\n",
       "      <td>4.954311e+02</td>\n",
       "      <td>2.515449e+01</td>\n",
       "      <td>8.319086e+01</td>\n",
       "      <td>6.324770e+00</td>\n",
       "      <td>1.848553e+01</td>\n",
       "      <td>1.118871e+00</td>\n",
       "      <td>4.305473e+04</td>\n",
       "    </tr>\n",
       "    <tr>\n",
       "      <th>min</th>\n",
       "      <td>0.000000e+00</td>\n",
       "      <td>0.000000e+00</td>\n",
       "      <td>2.000000e+00</td>\n",
       "      <td>1.000000e+00</td>\n",
       "      <td>1.000000e+00</td>\n",
       "      <td>0.000000e+00</td>\n",
       "      <td>0.000000e+00</td>\n",
       "      <td>0.000000e+00</td>\n",
       "      <td>1.000000e+00</td>\n",
       "      <td>1.000000e+00</td>\n",
       "      <td>0.000000e+00</td>\n",
       "      <td>1.000000e+00</td>\n",
       "      <td>1.000000e+00</td>\n",
       "      <td>1.000000e+00</td>\n",
       "      <td>3.000000e+00</td>\n",
       "      <td>1.000000e+00</td>\n",
       "      <td>0.000000e+00</td>\n",
       "      <td>1.800000e+01</td>\n",
       "      <td>0.000000e+00</td>\n",
       "      <td>2.590300e+04</td>\n",
       "    </tr>\n",
       "    <tr>\n",
       "      <th>25%</th>\n",
       "      <td>8.556130e+05</td>\n",
       "      <td>8.556130e+05</td>\n",
       "      <td>8.559450e+05</td>\n",
       "      <td>5.142000e+04</td>\n",
       "      <td>5.000000e+00</td>\n",
       "      <td>1.000000e+00</td>\n",
       "      <td>1.000000e+01</td>\n",
       "      <td>5.000000e+00</td>\n",
       "      <td>1.353500e+04</td>\n",
       "      <td>3.000000e+00</td>\n",
       "      <td>0.000000e+00</td>\n",
       "      <td>3.100000e+01</td>\n",
       "      <td>4.000000e+00</td>\n",
       "      <td>4.200000e+00</td>\n",
       "      <td>1.300000e+01</td>\n",
       "      <td>7.390000e+00</td>\n",
       "      <td>6.000000e+00</td>\n",
       "      <td>3.300000e+01</td>\n",
       "      <td>1.000000e+00</td>\n",
       "      <td>6.699800e+04</td>\n",
       "    </tr>\n",
       "    <tr>\n",
       "      <th>50%</th>\n",
       "      <td>1.709152e+06</td>\n",
       "      <td>1.709152e+06</td>\n",
       "      <td>1.711049e+06</td>\n",
       "      <td>1.026125e+05</td>\n",
       "      <td>1.100000e+01</td>\n",
       "      <td>3.000000e+00</td>\n",
       "      <td>1.300000e+01</td>\n",
       "      <td>8.000000e+00</td>\n",
       "      <td>2.525600e+04</td>\n",
       "      <td>6.000000e+00</td>\n",
       "      <td>1.000000e+00</td>\n",
       "      <td>8.300000e+01</td>\n",
       "      <td>9.000000e+00</td>\n",
       "      <td>7.400000e+00</td>\n",
       "      <td>2.600000e+01</td>\n",
       "      <td>7.830000e+00</td>\n",
       "      <td>8.000000e+00</td>\n",
       "      <td>4.900000e+01</td>\n",
       "      <td>2.000000e+00</td>\n",
       "      <td>9.661200e+04</td>\n",
       "    </tr>\n",
       "    <tr>\n",
       "      <th>75%</th>\n",
       "      <td>2.565947e+06</td>\n",
       "      <td>2.565947e+06</td>\n",
       "      <td>2.565510e+06</td>\n",
       "      <td>1.543910e+05</td>\n",
       "      <td>2.400000e+01</td>\n",
       "      <td>5.000000e+00</td>\n",
       "      <td>1.600000e+01</td>\n",
       "      <td>1.400000e+01</td>\n",
       "      <td>3.793500e+04</td>\n",
       "      <td>1.100000e+01</td>\n",
       "      <td>1.000000e+00</td>\n",
       "      <td>1.070000e+02</td>\n",
       "      <td>1.600000e+01</td>\n",
       "      <td>1.130000e+01</td>\n",
       "      <td>4.700000e+01</td>\n",
       "      <td>8.260000e+00</td>\n",
       "      <td>1.200000e+01</td>\n",
       "      <td>6.500000e+01</td>\n",
       "      <td>3.000000e+00</td>\n",
       "      <td>1.279080e+05</td>\n",
       "    </tr>\n",
       "    <tr>\n",
       "      <th>max</th>\n",
       "      <td>3.421081e+06</td>\n",
       "      <td>3.421081e+06</td>\n",
       "      <td>3.421083e+06</td>\n",
       "      <td>2.062090e+05</td>\n",
       "      <td>9.900000e+01</td>\n",
       "      <td>6.000000e+00</td>\n",
       "      <td>2.300000e+01</td>\n",
       "      <td>3.000000e+01</td>\n",
       "      <td>4.968800e+04</td>\n",
       "      <td>1.450000e+02</td>\n",
       "      <td>1.000000e+00</td>\n",
       "      <td>1.340000e+02</td>\n",
       "      <td>2.100000e+01</td>\n",
       "      <td>9.999900e+04</td>\n",
       "      <td>9.900000e+01</td>\n",
       "      <td>2.500542e+04</td>\n",
       "      <td>3.000000e+01</td>\n",
       "      <td>8.100000e+01</td>\n",
       "      <td>3.000000e+00</td>\n",
       "      <td>5.939010e+05</td>\n",
       "    </tr>\n",
       "  </tbody>\n",
       "</table>\n",
       "</div>"
      ],
      "text/plain": [
       "       Unnamed: 0.1    Unnamed: 0      order_id       user_id  order_number  \\\n",
       "count  3.243421e+07  3.243421e+07  3.243421e+07  3.243421e+07  3.243421e+07   \n",
       "mean   1.709860e+06  1.709860e+06  1.710748e+06  1.029374e+05  1.714192e+01   \n",
       "std    9.864638e+05  9.864638e+05  9.872996e+05  5.946649e+04  1.753489e+01   \n",
       "min    0.000000e+00  0.000000e+00  2.000000e+00  1.000000e+00  1.000000e+00   \n",
       "25%    8.556130e+05  8.556130e+05  8.559450e+05  5.142000e+04  5.000000e+00   \n",
       "50%    1.709152e+06  1.709152e+06  1.711049e+06  1.026125e+05  1.100000e+01   \n",
       "75%    2.565947e+06  2.565947e+06  2.565510e+06  1.543910e+05  2.400000e+01   \n",
       "max    3.421081e+06  3.421081e+06  3.421083e+06  2.062090e+05  9.900000e+01   \n",
       "\n",
       "          order_dow  order_hour_of_day  days_since_prior_order    product_id  \\\n",
       "count  3.243421e+07       3.243421e+07            3.243421e+07  3.243421e+07   \n",
       "mean   2.738810e+00       1.342500e+01            1.110485e+01  2.557778e+04   \n",
       "std    2.090047e+00       4.246351e+00            8.493052e+00  1.409614e+04   \n",
       "min    0.000000e+00       0.000000e+00            0.000000e+00  1.000000e+00   \n",
       "25%    1.000000e+00       1.000000e+01            5.000000e+00  1.353500e+04   \n",
       "50%    3.000000e+00       1.300000e+01            8.000000e+00  2.525600e+04   \n",
       "75%    5.000000e+00       1.600000e+01            1.400000e+01  3.793500e+04   \n",
       "max    6.000000e+00       2.300000e+01            3.000000e+01  4.968800e+04   \n",
       "\n",
       "       add_to_cart_order     reordered      aisle_id  department_id  \\\n",
       "count       3.243421e+07  3.243421e+07  3.243421e+07   3.243421e+07   \n",
       "mean        8.351176e+00  5.896888e-01  7.121649e+01   9.922231e+00   \n",
       "std         7.126688e+00  4.918902e-01  3.820429e+01   6.281190e+00   \n",
       "min         1.000000e+00  0.000000e+00  1.000000e+00   1.000000e+00   \n",
       "25%         3.000000e+00  0.000000e+00  3.100000e+01   4.000000e+00   \n",
       "50%         6.000000e+00  1.000000e+00  8.300000e+01   9.000000e+00   \n",
       "75%         1.100000e+01  1.000000e+00  1.070000e+02   1.600000e+01   \n",
       "max         1.450000e+02  1.000000e+00  1.340000e+02   2.100000e+01   \n",
       "\n",
       "             prices     max_order  average_price  median_prior_orders  \\\n",
       "count  3.243421e+07  3.243421e+07   3.243421e+07         3.243421e+07   \n",
       "mean   1.198114e+01  3.305217e+01   1.198115e+01         1.002913e+01   \n",
       "std    4.954311e+02  2.515449e+01   8.319086e+01         6.324770e+00   \n",
       "min    1.000000e+00  3.000000e+00   1.000000e+00         0.000000e+00   \n",
       "25%    4.200000e+00  1.300000e+01   7.390000e+00         6.000000e+00   \n",
       "50%    7.400000e+00  2.600000e+01   7.830000e+00         8.000000e+00   \n",
       "75%    1.130000e+01  4.700000e+01   8.260000e+00         1.200000e+01   \n",
       "max    9.999900e+04  9.900000e+01   2.500542e+04         3.000000e+01   \n",
       "\n",
       "                age  number_dependants        income  \n",
       "count  3.243421e+07       3.243421e+07  3.243421e+07  \n",
       "mean   4.946521e+01       1.501872e+00  9.943525e+04  \n",
       "std    1.848553e+01       1.118871e+00  4.305473e+04  \n",
       "min    1.800000e+01       0.000000e+00  2.590300e+04  \n",
       "25%    3.300000e+01       1.000000e+00  6.699800e+04  \n",
       "50%    4.900000e+01       2.000000e+00  9.661200e+04  \n",
       "75%    6.500000e+01       3.000000e+00  1.279080e+05  \n",
       "max    8.100000e+01       3.000000e+00  5.939010e+05  "
      ]
     },
     "execution_count": 16,
     "metadata": {},
     "output_type": "execute_result"
    }
   ],
   "source": [
    "df_ords_prods_all.describe()"
   ]
  },
  {
   "cell_type": "code",
   "execution_count": 17,
   "id": "c31fb617",
   "metadata": {},
   "outputs": [
    {
     "data": {
      "text/plain": [
       "41-65    12658478\n",
       "18-40    11680516\n",
       "65+       8095218\n",
       "Name: age_profile, dtype: int64"
      ]
     },
     "execution_count": 17,
     "metadata": {},
     "output_type": "execute_result"
    }
   ],
   "source": [
    "df_ords_prods_all.loc[(df_ords_prods_all['age'] <= 40), 'age_profile'] = '18-40'\n",
    "df_ords_prods_all.loc[(df_ords_prods_all['age'] > 40) & (df_ords_prods_all['age'] <= 65), 'age_profile'] = '41-65'\n",
    "df_ords_prods_all.loc[(df_ords_prods_all['age'] > 65), 'age_profile'] = '65+'\n",
    "df_ords_prods_all['age_profile'].value_counts(dropna = False)"
   ]
  },
  {
   "cell_type": "markdown",
   "id": "80cc17df",
   "metadata": {},
   "source": [
    "# Q6 Visualizing the profiles"
   ]
  },
  {
   "cell_type": "code",
   "execution_count": 18,
   "id": "0cada174",
   "metadata": {},
   "outputs": [
    {
     "data": {
      "image/png": "[encoded data removed]",
      "text/plain": [
       "<Figure size 640x480 with 1 Axes>"
      ]
     },
     "metadata": {},
     "output_type": "display_data"
    }
   ],
   "source": [
    "# Creating age pie chart\n",
    "age_profile_pie = df_ords_prods_all['age_profile'].value_counts().plot.pie(title ='Age Profile', label = '', autopct=('%1.f%%'))"
   ]
  },
  {
   "cell_type": "code",
   "execution_count": 19,
   "id": "bc97c5dd",
   "metadata": {},
   "outputs": [
    {
     "data": {
      "text/html": [
       "<div>\n",
       "<style scoped>\n",
       "    .dataframe tbody tr th:only-of-type {\n",
       "        vertical-align: middle;\n",
       "    }\n",
       "\n",
       "    .dataframe tbody tr th {\n",
       "        vertical-align: top;\n",
       "    }\n",
       "\n",
       "    .dataframe thead tr th {\n",
       "        text-align: left;\n",
       "    }\n",
       "\n",
       "    .dataframe thead tr:last-of-type th {\n",
       "        text-align: right;\n",
       "    }\n",
       "</style>\n",
       "<table border=\"1\" class=\"dataframe\">\n",
       "  <thead>\n",
       "    <tr>\n",
       "      <th></th>\n",
       "      <th colspan=\"3\" halign=\"left\">days_since_prior_order</th>\n",
       "      <th colspan=\"4\" halign=\"left\">prices</th>\n",
       "    </tr>\n",
       "    <tr>\n",
       "      <th></th>\n",
       "      <th>min</th>\n",
       "      <th>max</th>\n",
       "      <th>mean</th>\n",
       "      <th>min</th>\n",
       "      <th>max</th>\n",
       "      <th>mean</th>\n",
       "      <th>sum</th>\n",
       "    </tr>\n",
       "    <tr>\n",
       "      <th>age_profile</th>\n",
       "      <th></th>\n",
       "      <th></th>\n",
       "      <th></th>\n",
       "      <th></th>\n",
       "      <th></th>\n",
       "      <th></th>\n",
       "      <th></th>\n",
       "    </tr>\n",
       "  </thead>\n",
       "  <tbody>\n",
       "    <tr>\n",
       "      <th>18-40</th>\n",
       "      <td>0.0</td>\n",
       "      <td>30.0</td>\n",
       "      <td>11.110050</td>\n",
       "      <td>1.0</td>\n",
       "      <td>99999.0</td>\n",
       "      <td>12.085853</td>\n",
       "      <td>141169003.7</td>\n",
       "    </tr>\n",
       "    <tr>\n",
       "      <th>41-65</th>\n",
       "      <td>0.0</td>\n",
       "      <td>30.0</td>\n",
       "      <td>11.113735</td>\n",
       "      <td>1.0</td>\n",
       "      <td>99999.0</td>\n",
       "      <td>11.975049</td>\n",
       "      <td>151585891.3</td>\n",
       "    </tr>\n",
       "    <tr>\n",
       "      <th>65+</th>\n",
       "      <td>0.0</td>\n",
       "      <td>30.0</td>\n",
       "      <td>11.083434</td>\n",
       "      <td>1.0</td>\n",
       "      <td>99999.0</td>\n",
       "      <td>11.839591</td>\n",
       "      <td>95844067.0</td>\n",
       "    </tr>\n",
       "  </tbody>\n",
       "</table>\n",
       "</div>"
      ],
      "text/plain": [
       "            days_since_prior_order                  prices           \\\n",
       "                               min   max       mean    min      max   \n",
       "age_profile                                                           \n",
       "18-40                          0.0  30.0  11.110050    1.0  99999.0   \n",
       "41-65                          0.0  30.0  11.113735    1.0  99999.0   \n",
       "65+                            0.0  30.0  11.083434    1.0  99999.0   \n",
       "\n",
       "                                     \n",
       "                  mean          sum  \n",
       "age_profile                          \n",
       "18-40        12.085853  141169003.7  \n",
       "41-65        11.975049  151585891.3  \n",
       "65+          11.839591   95844067.0  "
      ]
     },
     "execution_count": 19,
     "metadata": {},
     "output_type": "execute_result"
    }
   ],
   "source": [
    "# Creating Age statistics\n",
    "age_sums = df_ords_prods_all.groupby(['age_profile']).agg({'days_since_prior_order' : ['min', 'max', 'mean'], 'prices' : ['min', 'max', 'mean', 'sum']})\n",
    "age_sums"
   ]
  },
  {
   "cell_type": "code",
   "execution_count": 20,
   "id": "854c8599",
   "metadata": {},
   "outputs": [],
   "source": [
    "# Creating crosstab between ages and regions\n",
    "crosstab_region_age = pd.crosstab(df_ords_prods_all['region'], df_ords_prods_all['age_profile'], dropna = False)"
   ]
  },
  {
   "cell_type": "markdown",
   "id": "e4fe72fd",
   "metadata": {},
   "source": [
    "# Q7 Aggregate variables"
   ]
  },
  {
   "cell_type": "code",
   "execution_count": 21,
   "id": "ea2ee044",
   "metadata": {},
   "outputs": [
    {
     "data": {
      "image/png": "[encoded data removed]",
      "text/plain": [
       "<Figure size 640x480 with 1 Axes>"
      ]
     },
     "metadata": {},
     "output_type": "display_data"
    }
   ],
   "source": [
    "#Creating a stacked bar chart\n",
    "region_age = crosstab_region_age.plot(kind = 'barh', color = sns.color_palette('Blues', 3))\n",
    "plt.legend(loc='lower right')\n",
    "plt.ylabel('Regions', fontweight = 'bold')\n",
    "plt.title('Age Profiles by Region', fontweight = 'bold')\n",
    "plt.show()"
   ]
  },
  {
   "cell_type": "markdown",
   "id": "9049fa7d",
   "metadata": {},
   "source": [
    "# Q8 Comparing customer profiles"
   ]
  },
  {
   "cell_type": "code",
   "execution_count": 22,
   "id": "5db25d0b",
   "metadata": {},
   "outputs": [],
   "source": [
    "# Importing department dataframe\n",
    "df_dep_new = pd.read_csv(os.path.join(path, 'Data','Prepared Data', 'departments_wrangled.csv'))"
   ]
  },
  {
   "cell_type": "code",
   "execution_count": 23,
   "id": "84e5b689",
   "metadata": {},
   "outputs": [
    {
     "data": {
      "text/html": [
       "<div>\n",
       "<style scoped>\n",
       "    .dataframe tbody tr th:only-of-type {\n",
       "        vertical-align: middle;\n",
       "    }\n",
       "\n",
       "    .dataframe tbody tr th {\n",
       "        vertical-align: top;\n",
       "    }\n",
       "\n",
       "    .dataframe thead th {\n",
       "        text-align: right;\n",
       "    }\n",
       "</style>\n",
       "<table border=\"1\" class=\"dataframe\">\n",
       "  <thead>\n",
       "    <tr style=\"text-align: right;\">\n",
       "      <th></th>\n",
       "      <th>department_id</th>\n",
       "      <th>department_id</th>\n",
       "      <th>1</th>\n",
       "      <th>2</th>\n",
       "      <th>3</th>\n",
       "      <th>4</th>\n",
       "      <th>5</th>\n",
       "      <th>6</th>\n",
       "      <th>7</th>\n",
       "      <th>8</th>\n",
       "      <th>...</th>\n",
       "      <th>12</th>\n",
       "      <th>13</th>\n",
       "      <th>14</th>\n",
       "      <th>15</th>\n",
       "      <th>16</th>\n",
       "      <th>17</th>\n",
       "      <th>18</th>\n",
       "      <th>19</th>\n",
       "      <th>20</th>\n",
       "      <th>21</th>\n",
       "    </tr>\n",
       "  </thead>\n",
       "  <tbody>\n",
       "    <tr>\n",
       "      <th>0</th>\n",
       "      <td>0</td>\n",
       "      <td>department</td>\n",
       "      <td>frozen</td>\n",
       "      <td>other</td>\n",
       "      <td>bakery</td>\n",
       "      <td>produce</td>\n",
       "      <td>alcohol</td>\n",
       "      <td>international</td>\n",
       "      <td>beverages</td>\n",
       "      <td>pets</td>\n",
       "      <td>...</td>\n",
       "      <td>meat seafood</td>\n",
       "      <td>pantry</td>\n",
       "      <td>breakfast</td>\n",
       "      <td>canned goods</td>\n",
       "      <td>dairy eggs</td>\n",
       "      <td>household</td>\n",
       "      <td>babies</td>\n",
       "      <td>snacks</td>\n",
       "      <td>deli</td>\n",
       "      <td>missing</td>\n",
       "    </tr>\n",
       "  </tbody>\n",
       "</table>\n",
       "<p>1 rows × 23 columns</p>\n",
       "</div>"
      ],
      "text/plain": [
       "  department_id department_id       1      2       3        4        5  \\\n",
       "0             0    department  frozen  other  bakery  produce  alcohol   \n",
       "\n",
       "               6          7     8  ...            12      13         14  \\\n",
       "0  international  beverages  pets  ...  meat seafood  pantry  breakfast   \n",
       "\n",
       "             15          16         17      18      19    20       21  \n",
       "0  canned goods  dairy eggs  household  babies  snacks  deli  missing  \n",
       "\n",
       "[1 rows x 23 columns]"
      ]
     },
     "execution_count": 23,
     "metadata": {},
     "output_type": "execute_result"
    }
   ],
   "source": [
    "df_dep_new.rename(columns = {'Unnamed: 0' : 'department_id'}, inplace = True)\n",
    "df_dep_new"
   ]
  },
  {
   "cell_type": "code",
   "execution_count": 24,
   "id": "93d7c85f",
   "metadata": {},
   "outputs": [
    {
     "data": {
      "text/html": [
       "<div>\n",
       "<style scoped>\n",
       "    .dataframe tbody tr th:only-of-type {\n",
       "        vertical-align: middle;\n",
       "    }\n",
       "\n",
       "    .dataframe tbody tr th {\n",
       "        vertical-align: top;\n",
       "    }\n",
       "\n",
       "    .dataframe thead th {\n",
       "        text-align: right;\n",
       "    }\n",
       "</style>\n",
       "<table border=\"1\" class=\"dataframe\">\n",
       "  <thead>\n",
       "    <tr style=\"text-align: right;\">\n",
       "      <th></th>\n",
       "      <th>department_id</th>\n",
       "      <th>department_id</th>\n",
       "      <th>1</th>\n",
       "      <th>2</th>\n",
       "      <th>3</th>\n",
       "      <th>4</th>\n",
       "      <th>5</th>\n",
       "      <th>6</th>\n",
       "      <th>7</th>\n",
       "      <th>8</th>\n",
       "      <th>...</th>\n",
       "      <th>12</th>\n",
       "      <th>13</th>\n",
       "      <th>14</th>\n",
       "      <th>15</th>\n",
       "      <th>16</th>\n",
       "      <th>17</th>\n",
       "      <th>18</th>\n",
       "      <th>19</th>\n",
       "      <th>20</th>\n",
       "      <th>21</th>\n",
       "    </tr>\n",
       "  </thead>\n",
       "  <tbody>\n",
       "    <tr>\n",
       "      <th>0</th>\n",
       "      <td>0</td>\n",
       "      <td>department</td>\n",
       "      <td>frozen</td>\n",
       "      <td>other</td>\n",
       "      <td>bakery</td>\n",
       "      <td>produce</td>\n",
       "      <td>alcohol</td>\n",
       "      <td>international</td>\n",
       "      <td>beverages</td>\n",
       "      <td>pets</td>\n",
       "      <td>...</td>\n",
       "      <td>meat seafood</td>\n",
       "      <td>pantry</td>\n",
       "      <td>breakfast</td>\n",
       "      <td>canned goods</td>\n",
       "      <td>dairy eggs</td>\n",
       "      <td>household</td>\n",
       "      <td>babies</td>\n",
       "      <td>snacks</td>\n",
       "      <td>deli</td>\n",
       "      <td>missing</td>\n",
       "    </tr>\n",
       "  </tbody>\n",
       "</table>\n",
       "<p>1 rows × 23 columns</p>\n",
       "</div>"
      ],
      "text/plain": [
       "  department_id department_id       1      2       3        4        5  \\\n",
       "0             0    department  frozen  other  bakery  produce  alcohol   \n",
       "\n",
       "               6          7     8  ...            12      13         14  \\\n",
       "0  international  beverages  pets  ...  meat seafood  pantry  breakfast   \n",
       "\n",
       "             15          16         17      18      19    20       21  \n",
       "0  canned goods  dairy eggs  household  babies  snacks  deli  missing  \n",
       "\n",
       "[1 rows x 23 columns]"
      ]
     },
     "execution_count": 24,
     "metadata": {},
     "output_type": "execute_result"
    }
   ],
   "source": [
    "df_dep_new.head()"
   ]
  },
  {
   "cell_type": "code",
   "execution_count": 25,
   "id": "4dae1be1",
   "metadata": {},
   "outputs": [
    {
     "data": {
      "text/plain": [
       "array([[0, 'department', 'frozen', 'other', 'bakery', 'produce',\n",
       "        'alcohol', 'international', 'beverages', 'pets',\n",
       "        'dry goods pasta', 'bulk', 'personal care', 'meat seafood',\n",
       "        'pantry', 'breakfast', 'canned goods', 'dairy eggs', 'household',\n",
       "        'babies', 'snacks', 'deli', 'missing']], dtype=object)"
      ]
     },
     "execution_count": 25,
     "metadata": {},
     "output_type": "execute_result"
    }
   ],
   "source": [
    "df_dep_new.values"
   ]
  },
  {
   "cell_type": "code",
   "execution_count": 26,
   "id": "2db1fa39",
   "metadata": {},
   "outputs": [
    {
     "data": {
      "text/plain": [
       "['frozen',\n",
       " 'other',\n",
       " 'bakery',\n",
       " 'produce',\n",
       " 'alcohol',\n",
       " 'international',\n",
       " 'beverages',\n",
       " 'pets',\n",
       " 'dry goods pasta',\n",
       " 'bulk',\n",
       " 'personal care',\n",
       " 'meat seafood',\n",
       " 'pantry',\n",
       " 'breakfast',\n",
       " 'canned goods',\n",
       " 'dairy eggs',\n",
       " 'household',\n",
       " 'babies',\n",
       " 'snacks',\n",
       " 'deli',\n",
       " 'missing']"
      ]
     },
     "execution_count": 26,
     "metadata": {},
     "output_type": "execute_result"
    }
   ],
   "source": [
    "df_dep_new.values[0][2:].tolist()"
   ]
  },
  {
   "cell_type": "code",
   "execution_count": 27,
   "id": "aab9e0e5",
   "metadata": {},
   "outputs": [],
   "source": [
    "departments = df_dep_new.values[0][2:].tolist()"
   ]
  },
  {
   "cell_type": "code",
   "execution_count": 28,
   "id": "6c76559e",
   "metadata": {},
   "outputs": [],
   "source": [
    "departments = pd.DataFrame(data = departments, columns = [\"departments\"])"
   ]
  },
  {
   "cell_type": "code",
   "execution_count": 29,
   "id": "54bd9944",
   "metadata": {},
   "outputs": [
    {
     "data": {
      "text/html": [
       "<div>\n",
       "<style scoped>\n",
       "    .dataframe tbody tr th:only-of-type {\n",
       "        vertical-align: middle;\n",
       "    }\n",
       "\n",
       "    .dataframe tbody tr th {\n",
       "        vertical-align: top;\n",
       "    }\n",
       "\n",
       "    .dataframe thead th {\n",
       "        text-align: right;\n",
       "    }\n",
       "</style>\n",
       "<table border=\"1\" class=\"dataframe\">\n",
       "  <thead>\n",
       "    <tr style=\"text-align: right;\">\n",
       "      <th></th>\n",
       "      <th>departments</th>\n",
       "    </tr>\n",
       "  </thead>\n",
       "  <tbody>\n",
       "    <tr>\n",
       "      <th>0</th>\n",
       "      <td>frozen</td>\n",
       "    </tr>\n",
       "    <tr>\n",
       "      <th>1</th>\n",
       "      <td>other</td>\n",
       "    </tr>\n",
       "    <tr>\n",
       "      <th>2</th>\n",
       "      <td>bakery</td>\n",
       "    </tr>\n",
       "    <tr>\n",
       "      <th>3</th>\n",
       "      <td>produce</td>\n",
       "    </tr>\n",
       "    <tr>\n",
       "      <th>4</th>\n",
       "      <td>alcohol</td>\n",
       "    </tr>\n",
       "    <tr>\n",
       "      <th>5</th>\n",
       "      <td>international</td>\n",
       "    </tr>\n",
       "    <tr>\n",
       "      <th>6</th>\n",
       "      <td>beverages</td>\n",
       "    </tr>\n",
       "    <tr>\n",
       "      <th>7</th>\n",
       "      <td>pets</td>\n",
       "    </tr>\n",
       "    <tr>\n",
       "      <th>8</th>\n",
       "      <td>dry goods pasta</td>\n",
       "    </tr>\n",
       "    <tr>\n",
       "      <th>9</th>\n",
       "      <td>bulk</td>\n",
       "    </tr>\n",
       "    <tr>\n",
       "      <th>10</th>\n",
       "      <td>personal care</td>\n",
       "    </tr>\n",
       "    <tr>\n",
       "      <th>11</th>\n",
       "      <td>meat seafood</td>\n",
       "    </tr>\n",
       "    <tr>\n",
       "      <th>12</th>\n",
       "      <td>pantry</td>\n",
       "    </tr>\n",
       "    <tr>\n",
       "      <th>13</th>\n",
       "      <td>breakfast</td>\n",
       "    </tr>\n",
       "    <tr>\n",
       "      <th>14</th>\n",
       "      <td>canned goods</td>\n",
       "    </tr>\n",
       "    <tr>\n",
       "      <th>15</th>\n",
       "      <td>dairy eggs</td>\n",
       "    </tr>\n",
       "    <tr>\n",
       "      <th>16</th>\n",
       "      <td>household</td>\n",
       "    </tr>\n",
       "    <tr>\n",
       "      <th>17</th>\n",
       "      <td>babies</td>\n",
       "    </tr>\n",
       "    <tr>\n",
       "      <th>18</th>\n",
       "      <td>snacks</td>\n",
       "    </tr>\n",
       "    <tr>\n",
       "      <th>19</th>\n",
       "      <td>deli</td>\n",
       "    </tr>\n",
       "    <tr>\n",
       "      <th>20</th>\n",
       "      <td>missing</td>\n",
       "    </tr>\n",
       "  </tbody>\n",
       "</table>\n",
       "</div>"
      ],
      "text/plain": [
       "        departments\n",
       "0            frozen\n",
       "1             other\n",
       "2            bakery\n",
       "3           produce\n",
       "4           alcohol\n",
       "5     international\n",
       "6         beverages\n",
       "7              pets\n",
       "8   dry goods pasta\n",
       "9              bulk\n",
       "10    personal care\n",
       "11     meat seafood\n",
       "12           pantry\n",
       "13        breakfast\n",
       "14     canned goods\n",
       "15       dairy eggs\n",
       "16        household\n",
       "17           babies\n",
       "18           snacks\n",
       "19             deli\n",
       "20          missing"
      ]
     },
     "execution_count": 29,
     "metadata": {},
     "output_type": "execute_result"
    }
   ],
   "source": [
    "departments"
   ]
  },
  {
   "cell_type": "code",
   "execution_count": 30,
   "id": "af86f451",
   "metadata": {},
   "outputs": [],
   "source": [
    "departments = departments.reset_index()"
   ]
  },
  {
   "cell_type": "code",
   "execution_count": 31,
   "id": "a423d87c",
   "metadata": {},
   "outputs": [
    {
     "data": {
      "text/html": [
       "<div>\n",
       "<style scoped>\n",
       "    .dataframe tbody tr th:only-of-type {\n",
       "        vertical-align: middle;\n",
       "    }\n",
       "\n",
       "    .dataframe tbody tr th {\n",
       "        vertical-align: top;\n",
       "    }\n",
       "\n",
       "    .dataframe thead th {\n",
       "        text-align: right;\n",
       "    }\n",
       "</style>\n",
       "<table border=\"1\" class=\"dataframe\">\n",
       "  <thead>\n",
       "    <tr style=\"text-align: right;\">\n",
       "      <th></th>\n",
       "      <th>index</th>\n",
       "      <th>departments</th>\n",
       "    </tr>\n",
       "  </thead>\n",
       "  <tbody>\n",
       "    <tr>\n",
       "      <th>0</th>\n",
       "      <td>0</td>\n",
       "      <td>frozen</td>\n",
       "    </tr>\n",
       "    <tr>\n",
       "      <th>1</th>\n",
       "      <td>1</td>\n",
       "      <td>other</td>\n",
       "    </tr>\n",
       "    <tr>\n",
       "      <th>2</th>\n",
       "      <td>2</td>\n",
       "      <td>bakery</td>\n",
       "    </tr>\n",
       "    <tr>\n",
       "      <th>3</th>\n",
       "      <td>3</td>\n",
       "      <td>produce</td>\n",
       "    </tr>\n",
       "    <tr>\n",
       "      <th>4</th>\n",
       "      <td>4</td>\n",
       "      <td>alcohol</td>\n",
       "    </tr>\n",
       "    <tr>\n",
       "      <th>5</th>\n",
       "      <td>5</td>\n",
       "      <td>international</td>\n",
       "    </tr>\n",
       "    <tr>\n",
       "      <th>6</th>\n",
       "      <td>6</td>\n",
       "      <td>beverages</td>\n",
       "    </tr>\n",
       "    <tr>\n",
       "      <th>7</th>\n",
       "      <td>7</td>\n",
       "      <td>pets</td>\n",
       "    </tr>\n",
       "    <tr>\n",
       "      <th>8</th>\n",
       "      <td>8</td>\n",
       "      <td>dry goods pasta</td>\n",
       "    </tr>\n",
       "    <tr>\n",
       "      <th>9</th>\n",
       "      <td>9</td>\n",
       "      <td>bulk</td>\n",
       "    </tr>\n",
       "    <tr>\n",
       "      <th>10</th>\n",
       "      <td>10</td>\n",
       "      <td>personal care</td>\n",
       "    </tr>\n",
       "    <tr>\n",
       "      <th>11</th>\n",
       "      <td>11</td>\n",
       "      <td>meat seafood</td>\n",
       "    </tr>\n",
       "    <tr>\n",
       "      <th>12</th>\n",
       "      <td>12</td>\n",
       "      <td>pantry</td>\n",
       "    </tr>\n",
       "    <tr>\n",
       "      <th>13</th>\n",
       "      <td>13</td>\n",
       "      <td>breakfast</td>\n",
       "    </tr>\n",
       "    <tr>\n",
       "      <th>14</th>\n",
       "      <td>14</td>\n",
       "      <td>canned goods</td>\n",
       "    </tr>\n",
       "    <tr>\n",
       "      <th>15</th>\n",
       "      <td>15</td>\n",
       "      <td>dairy eggs</td>\n",
       "    </tr>\n",
       "    <tr>\n",
       "      <th>16</th>\n",
       "      <td>16</td>\n",
       "      <td>household</td>\n",
       "    </tr>\n",
       "    <tr>\n",
       "      <th>17</th>\n",
       "      <td>17</td>\n",
       "      <td>babies</td>\n",
       "    </tr>\n",
       "    <tr>\n",
       "      <th>18</th>\n",
       "      <td>18</td>\n",
       "      <td>snacks</td>\n",
       "    </tr>\n",
       "    <tr>\n",
       "      <th>19</th>\n",
       "      <td>19</td>\n",
       "      <td>deli</td>\n",
       "    </tr>\n",
       "    <tr>\n",
       "      <th>20</th>\n",
       "      <td>20</td>\n",
       "      <td>missing</td>\n",
       "    </tr>\n",
       "  </tbody>\n",
       "</table>\n",
       "</div>"
      ],
      "text/plain": [
       "    index      departments\n",
       "0       0           frozen\n",
       "1       1            other\n",
       "2       2           bakery\n",
       "3       3          produce\n",
       "4       4          alcohol\n",
       "5       5    international\n",
       "6       6        beverages\n",
       "7       7             pets\n",
       "8       8  dry goods pasta\n",
       "9       9             bulk\n",
       "10     10    personal care\n",
       "11     11     meat seafood\n",
       "12     12           pantry\n",
       "13     13        breakfast\n",
       "14     14     canned goods\n",
       "15     15       dairy eggs\n",
       "16     16        household\n",
       "17     17           babies\n",
       "18     18           snacks\n",
       "19     19             deli\n",
       "20     20          missing"
      ]
     },
     "execution_count": 31,
     "metadata": {},
     "output_type": "execute_result"
    }
   ],
   "source": [
    "departments"
   ]
  },
  {
   "cell_type": "code",
   "execution_count": 32,
   "id": "42caf66f",
   "metadata": {},
   "outputs": [],
   "source": [
    "departments.rename(columns = {'index' : 'department_id'}, inplace = True)"
   ]
  },
  {
   "cell_type": "code",
   "execution_count": 33,
   "id": "c405b7da",
   "metadata": {},
   "outputs": [
    {
     "data": {
      "text/html": [
       "<div>\n",
       "<style scoped>\n",
       "    .dataframe tbody tr th:only-of-type {\n",
       "        vertical-align: middle;\n",
       "    }\n",
       "\n",
       "    .dataframe tbody tr th {\n",
       "        vertical-align: top;\n",
       "    }\n",
       "\n",
       "    .dataframe thead th {\n",
       "        text-align: right;\n",
       "    }\n",
       "</style>\n",
       "<table border=\"1\" class=\"dataframe\">\n",
       "  <thead>\n",
       "    <tr style=\"text-align: right;\">\n",
       "      <th></th>\n",
       "      <th>department_id</th>\n",
       "      <th>departments</th>\n",
       "    </tr>\n",
       "  </thead>\n",
       "  <tbody>\n",
       "    <tr>\n",
       "      <th>0</th>\n",
       "      <td>0</td>\n",
       "      <td>frozen</td>\n",
       "    </tr>\n",
       "    <tr>\n",
       "      <th>1</th>\n",
       "      <td>1</td>\n",
       "      <td>other</td>\n",
       "    </tr>\n",
       "    <tr>\n",
       "      <th>2</th>\n",
       "      <td>2</td>\n",
       "      <td>bakery</td>\n",
       "    </tr>\n",
       "    <tr>\n",
       "      <th>3</th>\n",
       "      <td>3</td>\n",
       "      <td>produce</td>\n",
       "    </tr>\n",
       "    <tr>\n",
       "      <th>4</th>\n",
       "      <td>4</td>\n",
       "      <td>alcohol</td>\n",
       "    </tr>\n",
       "    <tr>\n",
       "      <th>5</th>\n",
       "      <td>5</td>\n",
       "      <td>international</td>\n",
       "    </tr>\n",
       "    <tr>\n",
       "      <th>6</th>\n",
       "      <td>6</td>\n",
       "      <td>beverages</td>\n",
       "    </tr>\n",
       "    <tr>\n",
       "      <th>7</th>\n",
       "      <td>7</td>\n",
       "      <td>pets</td>\n",
       "    </tr>\n",
       "    <tr>\n",
       "      <th>8</th>\n",
       "      <td>8</td>\n",
       "      <td>dry goods pasta</td>\n",
       "    </tr>\n",
       "    <tr>\n",
       "      <th>9</th>\n",
       "      <td>9</td>\n",
       "      <td>bulk</td>\n",
       "    </tr>\n",
       "    <tr>\n",
       "      <th>10</th>\n",
       "      <td>10</td>\n",
       "      <td>personal care</td>\n",
       "    </tr>\n",
       "    <tr>\n",
       "      <th>11</th>\n",
       "      <td>11</td>\n",
       "      <td>meat seafood</td>\n",
       "    </tr>\n",
       "    <tr>\n",
       "      <th>12</th>\n",
       "      <td>12</td>\n",
       "      <td>pantry</td>\n",
       "    </tr>\n",
       "    <tr>\n",
       "      <th>13</th>\n",
       "      <td>13</td>\n",
       "      <td>breakfast</td>\n",
       "    </tr>\n",
       "    <tr>\n",
       "      <th>14</th>\n",
       "      <td>14</td>\n",
       "      <td>canned goods</td>\n",
       "    </tr>\n",
       "    <tr>\n",
       "      <th>15</th>\n",
       "      <td>15</td>\n",
       "      <td>dairy eggs</td>\n",
       "    </tr>\n",
       "    <tr>\n",
       "      <th>16</th>\n",
       "      <td>16</td>\n",
       "      <td>household</td>\n",
       "    </tr>\n",
       "    <tr>\n",
       "      <th>17</th>\n",
       "      <td>17</td>\n",
       "      <td>babies</td>\n",
       "    </tr>\n",
       "    <tr>\n",
       "      <th>18</th>\n",
       "      <td>18</td>\n",
       "      <td>snacks</td>\n",
       "    </tr>\n",
       "    <tr>\n",
       "      <th>19</th>\n",
       "      <td>19</td>\n",
       "      <td>deli</td>\n",
       "    </tr>\n",
       "    <tr>\n",
       "      <th>20</th>\n",
       "      <td>20</td>\n",
       "      <td>missing</td>\n",
       "    </tr>\n",
       "  </tbody>\n",
       "</table>\n",
       "</div>"
      ],
      "text/plain": [
       "    department_id      departments\n",
       "0               0           frozen\n",
       "1               1            other\n",
       "2               2           bakery\n",
       "3               3          produce\n",
       "4               4          alcohol\n",
       "5               5    international\n",
       "6               6        beverages\n",
       "7               7             pets\n",
       "8               8  dry goods pasta\n",
       "9               9             bulk\n",
       "10             10    personal care\n",
       "11             11     meat seafood\n",
       "12             12           pantry\n",
       "13             13        breakfast\n",
       "14             14     canned goods\n",
       "15             15       dairy eggs\n",
       "16             16        household\n",
       "17             17           babies\n",
       "18             18           snacks\n",
       "19             19             deli\n",
       "20             20          missing"
      ]
     },
     "execution_count": 33,
     "metadata": {},
     "output_type": "execute_result"
    }
   ],
   "source": [
    "departments"
   ]
  },
  {
   "cell_type": "code",
   "execution_count": 34,
   "id": "2657d70a",
   "metadata": {},
   "outputs": [],
   "source": [
    "departments['department_id'] = departments['department_id'] + 1"
   ]
  },
  {
   "cell_type": "code",
   "execution_count": 35,
   "id": "77be2996",
   "metadata": {},
   "outputs": [
    {
     "data": {
      "text/html": [
       "<div>\n",
       "<style scoped>\n",
       "    .dataframe tbody tr th:only-of-type {\n",
       "        vertical-align: middle;\n",
       "    }\n",
       "\n",
       "    .dataframe tbody tr th {\n",
       "        vertical-align: top;\n",
       "    }\n",
       "\n",
       "    .dataframe thead th {\n",
       "        text-align: right;\n",
       "    }\n",
       "</style>\n",
       "<table border=\"1\" class=\"dataframe\">\n",
       "  <thead>\n",
       "    <tr style=\"text-align: right;\">\n",
       "      <th></th>\n",
       "      <th>department_id</th>\n",
       "      <th>departments</th>\n",
       "    </tr>\n",
       "  </thead>\n",
       "  <tbody>\n",
       "    <tr>\n",
       "      <th>0</th>\n",
       "      <td>1</td>\n",
       "      <td>frozen</td>\n",
       "    </tr>\n",
       "    <tr>\n",
       "      <th>1</th>\n",
       "      <td>2</td>\n",
       "      <td>other</td>\n",
       "    </tr>\n",
       "    <tr>\n",
       "      <th>2</th>\n",
       "      <td>3</td>\n",
       "      <td>bakery</td>\n",
       "    </tr>\n",
       "    <tr>\n",
       "      <th>3</th>\n",
       "      <td>4</td>\n",
       "      <td>produce</td>\n",
       "    </tr>\n",
       "    <tr>\n",
       "      <th>4</th>\n",
       "      <td>5</td>\n",
       "      <td>alcohol</td>\n",
       "    </tr>\n",
       "    <tr>\n",
       "      <th>5</th>\n",
       "      <td>6</td>\n",
       "      <td>international</td>\n",
       "    </tr>\n",
       "    <tr>\n",
       "      <th>6</th>\n",
       "      <td>7</td>\n",
       "      <td>beverages</td>\n",
       "    </tr>\n",
       "    <tr>\n",
       "      <th>7</th>\n",
       "      <td>8</td>\n",
       "      <td>pets</td>\n",
       "    </tr>\n",
       "    <tr>\n",
       "      <th>8</th>\n",
       "      <td>9</td>\n",
       "      <td>dry goods pasta</td>\n",
       "    </tr>\n",
       "    <tr>\n",
       "      <th>9</th>\n",
       "      <td>10</td>\n",
       "      <td>bulk</td>\n",
       "    </tr>\n",
       "    <tr>\n",
       "      <th>10</th>\n",
       "      <td>11</td>\n",
       "      <td>personal care</td>\n",
       "    </tr>\n",
       "    <tr>\n",
       "      <th>11</th>\n",
       "      <td>12</td>\n",
       "      <td>meat seafood</td>\n",
       "    </tr>\n",
       "    <tr>\n",
       "      <th>12</th>\n",
       "      <td>13</td>\n",
       "      <td>pantry</td>\n",
       "    </tr>\n",
       "    <tr>\n",
       "      <th>13</th>\n",
       "      <td>14</td>\n",
       "      <td>breakfast</td>\n",
       "    </tr>\n",
       "    <tr>\n",
       "      <th>14</th>\n",
       "      <td>15</td>\n",
       "      <td>canned goods</td>\n",
       "    </tr>\n",
       "    <tr>\n",
       "      <th>15</th>\n",
       "      <td>16</td>\n",
       "      <td>dairy eggs</td>\n",
       "    </tr>\n",
       "    <tr>\n",
       "      <th>16</th>\n",
       "      <td>17</td>\n",
       "      <td>household</td>\n",
       "    </tr>\n",
       "    <tr>\n",
       "      <th>17</th>\n",
       "      <td>18</td>\n",
       "      <td>babies</td>\n",
       "    </tr>\n",
       "    <tr>\n",
       "      <th>18</th>\n",
       "      <td>19</td>\n",
       "      <td>snacks</td>\n",
       "    </tr>\n",
       "    <tr>\n",
       "      <th>19</th>\n",
       "      <td>20</td>\n",
       "      <td>deli</td>\n",
       "    </tr>\n",
       "    <tr>\n",
       "      <th>20</th>\n",
       "      <td>21</td>\n",
       "      <td>missing</td>\n",
       "    </tr>\n",
       "  </tbody>\n",
       "</table>\n",
       "</div>"
      ],
      "text/plain": [
       "    department_id      departments\n",
       "0               1           frozen\n",
       "1               2            other\n",
       "2               3           bakery\n",
       "3               4          produce\n",
       "4               5          alcohol\n",
       "5               6    international\n",
       "6               7        beverages\n",
       "7               8             pets\n",
       "8               9  dry goods pasta\n",
       "9              10             bulk\n",
       "10             11    personal care\n",
       "11             12     meat seafood\n",
       "12             13           pantry\n",
       "13             14        breakfast\n",
       "14             15     canned goods\n",
       "15             16       dairy eggs\n",
       "16             17        household\n",
       "17             18           babies\n",
       "18             19           snacks\n",
       "19             20             deli\n",
       "20             21          missing"
      ]
     },
     "execution_count": 35,
     "metadata": {},
     "output_type": "execute_result"
    }
   ],
   "source": [
    "departments"
   ]
  },
  {
   "cell_type": "code",
   "execution_count": 36,
   "id": "08d02bee",
   "metadata": {},
   "outputs": [
    {
     "data": {
      "text/html": [
       "<div>\n",
       "<style scoped>\n",
       "    .dataframe tbody tr th:only-of-type {\n",
       "        vertical-align: middle;\n",
       "    }\n",
       "\n",
       "    .dataframe tbody tr th {\n",
       "        vertical-align: top;\n",
       "    }\n",
       "\n",
       "    .dataframe thead th {\n",
       "        text-align: right;\n",
       "    }\n",
       "</style>\n",
       "<table border=\"1\" class=\"dataframe\">\n",
       "  <thead>\n",
       "    <tr style=\"text-align: right;\">\n",
       "      <th></th>\n",
       "      <th>department_id</th>\n",
       "      <th>departments</th>\n",
       "    </tr>\n",
       "  </thead>\n",
       "  <tbody>\n",
       "    <tr>\n",
       "      <th>0</th>\n",
       "      <td>1</td>\n",
       "      <td>frozen</td>\n",
       "    </tr>\n",
       "    <tr>\n",
       "      <th>1</th>\n",
       "      <td>2</td>\n",
       "      <td>other</td>\n",
       "    </tr>\n",
       "    <tr>\n",
       "      <th>2</th>\n",
       "      <td>3</td>\n",
       "      <td>bakery</td>\n",
       "    </tr>\n",
       "    <tr>\n",
       "      <th>3</th>\n",
       "      <td>4</td>\n",
       "      <td>produce</td>\n",
       "    </tr>\n",
       "    <tr>\n",
       "      <th>4</th>\n",
       "      <td>5</td>\n",
       "      <td>alcohol</td>\n",
       "    </tr>\n",
       "    <tr>\n",
       "      <th>5</th>\n",
       "      <td>6</td>\n",
       "      <td>international</td>\n",
       "    </tr>\n",
       "    <tr>\n",
       "      <th>6</th>\n",
       "      <td>7</td>\n",
       "      <td>beverages</td>\n",
       "    </tr>\n",
       "    <tr>\n",
       "      <th>7</th>\n",
       "      <td>8</td>\n",
       "      <td>pets</td>\n",
       "    </tr>\n",
       "    <tr>\n",
       "      <th>8</th>\n",
       "      <td>9</td>\n",
       "      <td>dry goods pasta</td>\n",
       "    </tr>\n",
       "    <tr>\n",
       "      <th>9</th>\n",
       "      <td>10</td>\n",
       "      <td>bulk</td>\n",
       "    </tr>\n",
       "    <tr>\n",
       "      <th>10</th>\n",
       "      <td>11</td>\n",
       "      <td>personal care</td>\n",
       "    </tr>\n",
       "    <tr>\n",
       "      <th>11</th>\n",
       "      <td>12</td>\n",
       "      <td>meat seafood</td>\n",
       "    </tr>\n",
       "    <tr>\n",
       "      <th>12</th>\n",
       "      <td>13</td>\n",
       "      <td>pantry</td>\n",
       "    </tr>\n",
       "    <tr>\n",
       "      <th>13</th>\n",
       "      <td>14</td>\n",
       "      <td>breakfast</td>\n",
       "    </tr>\n",
       "    <tr>\n",
       "      <th>14</th>\n",
       "      <td>15</td>\n",
       "      <td>canned goods</td>\n",
       "    </tr>\n",
       "    <tr>\n",
       "      <th>15</th>\n",
       "      <td>16</td>\n",
       "      <td>dairy eggs</td>\n",
       "    </tr>\n",
       "    <tr>\n",
       "      <th>16</th>\n",
       "      <td>17</td>\n",
       "      <td>household</td>\n",
       "    </tr>\n",
       "    <tr>\n",
       "      <th>17</th>\n",
       "      <td>18</td>\n",
       "      <td>babies</td>\n",
       "    </tr>\n",
       "    <tr>\n",
       "      <th>18</th>\n",
       "      <td>19</td>\n",
       "      <td>snacks</td>\n",
       "    </tr>\n",
       "    <tr>\n",
       "      <th>19</th>\n",
       "      <td>20</td>\n",
       "      <td>deli</td>\n",
       "    </tr>\n",
       "    <tr>\n",
       "      <th>20</th>\n",
       "      <td>21</td>\n",
       "      <td>missing</td>\n",
       "    </tr>\n",
       "  </tbody>\n",
       "</table>\n",
       "</div>"
      ],
      "text/plain": [
       "    department_id      departments\n",
       "0               1           frozen\n",
       "1               2            other\n",
       "2               3           bakery\n",
       "3               4          produce\n",
       "4               5          alcohol\n",
       "5               6    international\n",
       "6               7        beverages\n",
       "7               8             pets\n",
       "8               9  dry goods pasta\n",
       "9              10             bulk\n",
       "10             11    personal care\n",
       "11             12     meat seafood\n",
       "12             13           pantry\n",
       "13             14        breakfast\n",
       "14             15     canned goods\n",
       "15             16       dairy eggs\n",
       "16             17        household\n",
       "17             18           babies\n",
       "18             19           snacks\n",
       "19             20             deli\n",
       "20             21          missing"
      ]
     },
     "execution_count": 36,
     "metadata": {},
     "output_type": "execute_result"
    }
   ],
   "source": [
    "departments"
   ]
  },
  {
   "cell_type": "code",
   "execution_count": 37,
   "id": "70fae866",
   "metadata": {},
   "outputs": [],
   "source": [
    "df_dep_new = departments"
   ]
  },
  {
   "cell_type": "code",
   "execution_count": 38,
   "id": "0c943247",
   "metadata": {},
   "outputs": [],
   "source": [
    "# Merging departments dataframe with df_ords_prods_all dataframe\n",
    "df_all = df_ords_prods_all.merge(df_dep_new, on = 'department_id')"
   ]
  },
  {
   "cell_type": "code",
   "execution_count": 39,
   "id": "da1b9b65",
   "metadata": {},
   "outputs": [
    {
     "data": {
      "text/html": [
       "<div>\n",
       "<style scoped>\n",
       "    .dataframe tbody tr th:only-of-type {\n",
       "        vertical-align: middle;\n",
       "    }\n",
       "\n",
       "    .dataframe tbody tr th {\n",
       "        vertical-align: top;\n",
       "    }\n",
       "\n",
       "    .dataframe thead th {\n",
       "        text-align: right;\n",
       "    }\n",
       "</style>\n",
       "<table border=\"1\" class=\"dataframe\">\n",
       "  <thead>\n",
       "    <tr style=\"text-align: right;\">\n",
       "      <th></th>\n",
       "      <th>Unnamed: 0.1</th>\n",
       "      <th>Unnamed: 0</th>\n",
       "      <th>order_id</th>\n",
       "      <th>user_id</th>\n",
       "      <th>eval_set</th>\n",
       "      <th>order_number</th>\n",
       "      <th>order_dow</th>\n",
       "      <th>order_hour_of_day</th>\n",
       "      <th>days_since_prior_order</th>\n",
       "      <th>product_id</th>\n",
       "      <th>...</th>\n",
       "      <th>state</th>\n",
       "      <th>age</th>\n",
       "      <th>date_joined</th>\n",
       "      <th>number_dependants</th>\n",
       "      <th>family_status</th>\n",
       "      <th>income</th>\n",
       "      <th>region</th>\n",
       "      <th>low_order_flag</th>\n",
       "      <th>age_profile</th>\n",
       "      <th>departments</th>\n",
       "    </tr>\n",
       "  </thead>\n",
       "  <tbody>\n",
       "    <tr>\n",
       "      <th>0</th>\n",
       "      <td>0</td>\n",
       "      <td>0</td>\n",
       "      <td>2539329</td>\n",
       "      <td>1</td>\n",
       "      <td>prior</td>\n",
       "      <td>1</td>\n",
       "      <td>2</td>\n",
       "      <td>8</td>\n",
       "      <td>11.114836</td>\n",
       "      <td>196</td>\n",
       "      <td>...</td>\n",
       "      <td>Alabama</td>\n",
       "      <td>31</td>\n",
       "      <td>2/17/2019</td>\n",
       "      <td>3</td>\n",
       "      <td>married</td>\n",
       "      <td>40423</td>\n",
       "      <td>South</td>\n",
       "      <td>High order customer</td>\n",
       "      <td>18-40</td>\n",
       "      <td>beverages</td>\n",
       "    </tr>\n",
       "    <tr>\n",
       "      <th>1</th>\n",
       "      <td>1</td>\n",
       "      <td>1</td>\n",
       "      <td>2398795</td>\n",
       "      <td>1</td>\n",
       "      <td>prior</td>\n",
       "      <td>2</td>\n",
       "      <td>3</td>\n",
       "      <td>7</td>\n",
       "      <td>15.000000</td>\n",
       "      <td>196</td>\n",
       "      <td>...</td>\n",
       "      <td>Alabama</td>\n",
       "      <td>31</td>\n",
       "      <td>2/17/2019</td>\n",
       "      <td>3</td>\n",
       "      <td>married</td>\n",
       "      <td>40423</td>\n",
       "      <td>South</td>\n",
       "      <td>High order customer</td>\n",
       "      <td>18-40</td>\n",
       "      <td>beverages</td>\n",
       "    </tr>\n",
       "    <tr>\n",
       "      <th>2</th>\n",
       "      <td>2</td>\n",
       "      <td>2</td>\n",
       "      <td>473747</td>\n",
       "      <td>1</td>\n",
       "      <td>prior</td>\n",
       "      <td>3</td>\n",
       "      <td>3</td>\n",
       "      <td>12</td>\n",
       "      <td>21.000000</td>\n",
       "      <td>196</td>\n",
       "      <td>...</td>\n",
       "      <td>Alabama</td>\n",
       "      <td>31</td>\n",
       "      <td>2/17/2019</td>\n",
       "      <td>3</td>\n",
       "      <td>married</td>\n",
       "      <td>40423</td>\n",
       "      <td>South</td>\n",
       "      <td>High order customer</td>\n",
       "      <td>18-40</td>\n",
       "      <td>beverages</td>\n",
       "    </tr>\n",
       "    <tr>\n",
       "      <th>3</th>\n",
       "      <td>3</td>\n",
       "      <td>3</td>\n",
       "      <td>2254736</td>\n",
       "      <td>1</td>\n",
       "      <td>prior</td>\n",
       "      <td>4</td>\n",
       "      <td>4</td>\n",
       "      <td>7</td>\n",
       "      <td>29.000000</td>\n",
       "      <td>196</td>\n",
       "      <td>...</td>\n",
       "      <td>Alabama</td>\n",
       "      <td>31</td>\n",
       "      <td>2/17/2019</td>\n",
       "      <td>3</td>\n",
       "      <td>married</td>\n",
       "      <td>40423</td>\n",
       "      <td>South</td>\n",
       "      <td>High order customer</td>\n",
       "      <td>18-40</td>\n",
       "      <td>beverages</td>\n",
       "    </tr>\n",
       "    <tr>\n",
       "      <th>4</th>\n",
       "      <td>4</td>\n",
       "      <td>4</td>\n",
       "      <td>431534</td>\n",
       "      <td>1</td>\n",
       "      <td>prior</td>\n",
       "      <td>5</td>\n",
       "      <td>4</td>\n",
       "      <td>15</td>\n",
       "      <td>28.000000</td>\n",
       "      <td>196</td>\n",
       "      <td>...</td>\n",
       "      <td>Alabama</td>\n",
       "      <td>31</td>\n",
       "      <td>2/17/2019</td>\n",
       "      <td>3</td>\n",
       "      <td>married</td>\n",
       "      <td>40423</td>\n",
       "      <td>South</td>\n",
       "      <td>High order customer</td>\n",
       "      <td>18-40</td>\n",
       "      <td>beverages</td>\n",
       "    </tr>\n",
       "  </tbody>\n",
       "</table>\n",
       "<p>5 rows × 38 columns</p>\n",
       "</div>"
      ],
      "text/plain": [
       "   Unnamed: 0.1  Unnamed: 0  order_id  user_id eval_set  order_number  \\\n",
       "0             0           0   2539329        1    prior             1   \n",
       "1             1           1   2398795        1    prior             2   \n",
       "2             2           2    473747        1    prior             3   \n",
       "3             3           3   2254736        1    prior             4   \n",
       "4             4           4    431534        1    prior             5   \n",
       "\n",
       "   order_dow  order_hour_of_day  days_since_prior_order  product_id  ...  \\\n",
       "0          2                  8               11.114836         196  ...   \n",
       "1          3                  7               15.000000         196  ...   \n",
       "2          3                 12               21.000000         196  ...   \n",
       "3          4                  7               29.000000         196  ...   \n",
       "4          4                 15               28.000000         196  ...   \n",
       "\n",
       "     state  age date_joined  number_dependants  family_status  income region  \\\n",
       "0  Alabama   31   2/17/2019                  3        married   40423  South   \n",
       "1  Alabama   31   2/17/2019                  3        married   40423  South   \n",
       "2  Alabama   31   2/17/2019                  3        married   40423  South   \n",
       "3  Alabama   31   2/17/2019                  3        married   40423  South   \n",
       "4  Alabama   31   2/17/2019                  3        married   40423  South   \n",
       "\n",
       "        low_order_flag age_profile departments  \n",
       "0  High order customer       18-40   beverages  \n",
       "1  High order customer       18-40   beverages  \n",
       "2  High order customer       18-40   beverages  \n",
       "3  High order customer       18-40   beverages  \n",
       "4  High order customer       18-40   beverages  \n",
       "\n",
       "[5 rows x 38 columns]"
      ]
     },
     "execution_count": 39,
     "metadata": {},
     "output_type": "execute_result"
    }
   ],
   "source": [
    "df_all.head()"
   ]
  },
  {
   "cell_type": "markdown",
   "id": "410064b7",
   "metadata": {},
   "source": [
    "# Q9 Producing Suitable Charts"
   ]
  },
  {
   "cell_type": "code",
   "execution_count": 40,
   "id": "2b631bbb",
   "metadata": {},
   "outputs": [],
   "source": [
    "# Creating crosstab of age and department\n",
    "crosstab_dept_age = pd.crosstab(df_all['departments'], df_all['age_profile'], dropna = False)"
   ]
  },
  {
   "cell_type": "code",
   "execution_count": 41,
   "id": "622a7381",
   "metadata": {},
   "outputs": [
    {
     "data": {
      "image/png": "[encoded data removed]",
      "text/plain": [
       "<Figure size 640x480 with 1 Axes>"
      ]
     },
     "metadata": {},
     "output_type": "display_data"
    }
   ],
   "source": [
    "# Creating stacked bar chart of age group and department\n",
    "dept_age = crosstab_dept_age.plot(kind = 'barh', stacked = True, color = sns.color_palette('Blues', 3))\n",
    "plt.legend(loc='lower right')\n",
    "plt.ylabel('Department', fontweight = 'bold')\n",
    "plt.title('Age Profile by Department', fontweight = 'bold')\n",
    "plt.show()"
   ]
  },
  {
   "cell_type": "code",
   "execution_count": 42,
   "id": "43777668",
   "metadata": {},
   "outputs": [
    {
     "data": {
      "text/plain": [
       "50k - 150k    24782003\n",
       "150k+          4054338\n",
       "<=50k          3597871\n",
       "Name: income_profile, dtype: int64"
      ]
     },
     "execution_count": 42,
     "metadata": {},
     "output_type": "execute_result"
    }
   ],
   "source": [
    "# Creating income profiles\n",
    "df_all.loc[(df_all['income'] <= 50000), 'income_profile'] = '<=50k'\n",
    "df_all.loc[(df_all['income'] > 50000) & (df_all['income'] <= 150000), 'income_profile'] = '50k - 150k'\n",
    "df_all.loc[(df_all['income'] > 150000), 'income_profile'] = '150k+'\n",
    "df_all['income_profile'].value_counts(dropna = False)"
   ]
  },
  {
   "cell_type": "code",
   "execution_count": 43,
   "id": "1b0af5c9",
   "metadata": {},
   "outputs": [
    {
     "data": {
      "image/png": "[encoded data removed]",
      "text/plain": [
       "<Figure size 640x480 with 1 Axes>"
      ]
     },
     "metadata": {},
     "output_type": "display_data"
    }
   ],
   "source": [
    "# Creating income profile pie chart\n",
    "income_profile_pie = df_all['income_profile'].value_counts().plot.pie(title ='Income Profile Chart', label = '', autopct=('%1.f%%'))"
   ]
  },
  {
   "cell_type": "code",
   "execution_count": 44,
   "id": "c9b4d2a7",
   "metadata": {},
   "outputs": [
    {
     "data": {
      "text/html": [
       "<div>\n",
       "<style scoped>\n",
       "    .dataframe tbody tr th:only-of-type {\n",
       "        vertical-align: middle;\n",
       "    }\n",
       "\n",
       "    .dataframe tbody tr th {\n",
       "        vertical-align: top;\n",
       "    }\n",
       "\n",
       "    .dataframe thead tr th {\n",
       "        text-align: left;\n",
       "    }\n",
       "\n",
       "    .dataframe thead tr:last-of-type th {\n",
       "        text-align: right;\n",
       "    }\n",
       "</style>\n",
       "<table border=\"1\" class=\"dataframe\">\n",
       "  <thead>\n",
       "    <tr>\n",
       "      <th></th>\n",
       "      <th colspan=\"3\" halign=\"left\">days_since_prior_order</th>\n",
       "      <th colspan=\"4\" halign=\"left\">prices</th>\n",
       "    </tr>\n",
       "    <tr>\n",
       "      <th></th>\n",
       "      <th>min</th>\n",
       "      <th>max</th>\n",
       "      <th>mean</th>\n",
       "      <th>min</th>\n",
       "      <th>max</th>\n",
       "      <th>mean</th>\n",
       "      <th>sum</th>\n",
       "    </tr>\n",
       "    <tr>\n",
       "      <th>income_profile</th>\n",
       "      <th></th>\n",
       "      <th></th>\n",
       "      <th></th>\n",
       "      <th></th>\n",
       "      <th></th>\n",
       "      <th></th>\n",
       "      <th></th>\n",
       "    </tr>\n",
       "  </thead>\n",
       "  <tbody>\n",
       "    <tr>\n",
       "      <th>150k+</th>\n",
       "      <td>0.0</td>\n",
       "      <td>30.0</td>\n",
       "      <td>10.952008</td>\n",
       "      <td>1.0</td>\n",
       "      <td>99999.0</td>\n",
       "      <td>32.877480</td>\n",
       "      <td>133296417.3</td>\n",
       "    </tr>\n",
       "    <tr>\n",
       "      <th>50k - 150k</th>\n",
       "      <td>0.0</td>\n",
       "      <td>30.0</td>\n",
       "      <td>11.064848</td>\n",
       "      <td>1.0</td>\n",
       "      <td>99999.0</td>\n",
       "      <td>9.328823</td>\n",
       "      <td>231186929.7</td>\n",
       "    </tr>\n",
       "    <tr>\n",
       "      <th>&lt;=50k</th>\n",
       "      <td>0.0</td>\n",
       "      <td>30.0</td>\n",
       "      <td>11.552571</td>\n",
       "      <td>1.0</td>\n",
       "      <td>25.0</td>\n",
       "      <td>6.702746</td>\n",
       "      <td>24115615.0</td>\n",
       "    </tr>\n",
       "  </tbody>\n",
       "</table>\n",
       "</div>"
      ],
      "text/plain": [
       "               days_since_prior_order                  prices           \\\n",
       "                                  min   max       mean    min      max   \n",
       "income_profile                                                           \n",
       "150k+                             0.0  30.0  10.952008    1.0  99999.0   \n",
       "50k - 150k                        0.0  30.0  11.064848    1.0  99999.0   \n",
       "<=50k                             0.0  30.0  11.552571    1.0     25.0   \n",
       "\n",
       "                                        \n",
       "                     mean          sum  \n",
       "income_profile                          \n",
       "150k+           32.877480  133296417.3  \n",
       "50k - 150k       9.328823  231186929.7  \n",
       "<=50k            6.702746   24115615.0  "
      ]
     },
     "execution_count": 44,
     "metadata": {},
     "output_type": "execute_result"
    }
   ],
   "source": [
    "# Creating income statistics\n",
    "income_sums = df_all.groupby(['income_profile']).agg({'days_since_prior_order' : ['min', 'max', 'mean'], 'prices' : ['min', 'max', 'mean', 'sum']})\n",
    "income_sums"
   ]
  },
  {
   "cell_type": "code",
   "execution_count": 45,
   "id": "d2fa9e91",
   "metadata": {},
   "outputs": [],
   "source": [
    "# Create crosstab of regions and income grouos\n",
    "crosstab_region_income = pd.crosstab(df_all['region'], df_all['income_profile'], dropna = False)"
   ]
  },
  {
   "cell_type": "code",
   "execution_count": 46,
   "id": "13b2ce24",
   "metadata": {},
   "outputs": [
    {
     "data": {
      "image/png": "[encoded data removed]",
      "text/plain": [
       "<Figure size 640x480 with 1 Axes>"
      ]
     },
     "metadata": {},
     "output_type": "display_data"
    }
   ],
   "source": [
    "# Creating bar chart of the regions broken down by income groups\n",
    "region_income = crosstab_region_income.plot(kind = 'barh', color = sns.color_palette('Blues', 3))\n",
    "plt.legend(loc='lower right')\n",
    "plt.ylabel('Regions', fontweight = 'bold')\n",
    "plt.title('Income Profile by Region', fontweight = 'bold')\n",
    "plt.show()"
   ]
  },
  {
   "cell_type": "code",
   "execution_count": 47,
   "id": "b18ca841",
   "metadata": {},
   "outputs": [],
   "source": [
    "# Creating a crosstab of department and income groups\n",
    "crosstab_dept_income = pd.crosstab(df_all['departments'], df_all['income_profile'], dropna = False)"
   ]
  },
  {
   "cell_type": "code",
   "execution_count": 48,
   "id": "312253b2",
   "metadata": {},
   "outputs": [
    {
     "data": {
      "image/png": "[encoded data removed]",
      "text/plain": [
       "<Figure size 640x480 with 1 Axes>"
      ]
     },
     "metadata": {},
     "output_type": "display_data"
    }
   ],
   "source": [
    "# Creating stacked bar chart of department broken down by income group\n",
    "dept_income = crosstab_dept_income.plot(kind = 'barh', stacked = True, color = sns.color_palette('Blues', 3))\n",
    "plt.legend(loc='lower right')\n",
    "plt.ylabel('Departments', fontweight = 'bold')\n",
    "plt.title('Income Profile by Department', fontweight = 'bold')\n",
    "plt.show()"
   ]
  },
  {
   "cell_type": "code",
   "execution_count": 49,
   "id": "b5b976aa",
   "metadata": {},
   "outputs": [
    {
     "data": {
      "text/plain": [
       "Family          24329015\n",
       "Single Adult     8105197\n",
       "Name: family_profile, dtype: int64"
      ]
     },
     "execution_count": 49,
     "metadata": {},
     "output_type": "execute_result"
    }
   ],
   "source": [
    "# Creating Family Status Profiles\n",
    "df_all.loc[(df_all['number_dependants'] == 0), 'family_profile'] = 'Single Adult'\n",
    "df_all.loc[(df_all['number_dependants'] != 0), 'family_profile'] = 'Family'\n",
    "df_all['family_profile'].value_counts(dropna = False)"
   ]
  },
  {
   "cell_type": "code",
   "execution_count": 50,
   "id": "428c03a5",
   "metadata": {},
   "outputs": [
    {
     "data": {
      "image/png": "[encoded data removed]",
      "text/plain": [
       "<Figure size 640x480 with 1 Axes>"
      ]
     },
     "metadata": {},
     "output_type": "display_data"
    }
   ],
   "source": [
    "# Creating family status pie chart\n",
    "family_profile_pie = df_all['family_profile'].value_counts().plot.pie(title = 'Family Profile Chart', label = '', autopct = ('%1.f%%'))"
   ]
  },
  {
   "cell_type": "code",
   "execution_count": 51,
   "id": "75a08bcc",
   "metadata": {},
   "outputs": [
    {
     "data": {
      "text/html": [
       "<div>\n",
       "<style scoped>\n",
       "    .dataframe tbody tr th:only-of-type {\n",
       "        vertical-align: middle;\n",
       "    }\n",
       "\n",
       "    .dataframe tbody tr th {\n",
       "        vertical-align: top;\n",
       "    }\n",
       "\n",
       "    .dataframe thead tr th {\n",
       "        text-align: left;\n",
       "    }\n",
       "\n",
       "    .dataframe thead tr:last-of-type th {\n",
       "        text-align: right;\n",
       "    }\n",
       "</style>\n",
       "<table border=\"1\" class=\"dataframe\">\n",
       "  <thead>\n",
       "    <tr>\n",
       "      <th></th>\n",
       "      <th colspan=\"3\" halign=\"left\">days_since_prior_order</th>\n",
       "      <th colspan=\"4\" halign=\"left\">prices</th>\n",
       "    </tr>\n",
       "    <tr>\n",
       "      <th></th>\n",
       "      <th>min</th>\n",
       "      <th>max</th>\n",
       "      <th>mean</th>\n",
       "      <th>min</th>\n",
       "      <th>max</th>\n",
       "      <th>mean</th>\n",
       "      <th>sum</th>\n",
       "    </tr>\n",
       "    <tr>\n",
       "      <th>family_profile</th>\n",
       "      <th></th>\n",
       "      <th></th>\n",
       "      <th></th>\n",
       "      <th></th>\n",
       "      <th></th>\n",
       "      <th></th>\n",
       "      <th></th>\n",
       "    </tr>\n",
       "  </thead>\n",
       "  <tbody>\n",
       "    <tr>\n",
       "      <th>Family</th>\n",
       "      <td>0.0</td>\n",
       "      <td>30.0</td>\n",
       "      <td>11.112191</td>\n",
       "      <td>1.0</td>\n",
       "      <td>99999.0</td>\n",
       "      <td>11.931538</td>\n",
       "      <td>290282560.7</td>\n",
       "    </tr>\n",
       "    <tr>\n",
       "      <th>Single Adult</th>\n",
       "      <td>0.0</td>\n",
       "      <td>30.0</td>\n",
       "      <td>11.082797</td>\n",
       "      <td>1.0</td>\n",
       "      <td>99999.0</td>\n",
       "      <td>12.130045</td>\n",
       "      <td>98316401.3</td>\n",
       "    </tr>\n",
       "  </tbody>\n",
       "</table>\n",
       "</div>"
      ],
      "text/plain": [
       "               days_since_prior_order                  prices           \\\n",
       "                                  min   max       mean    min      max   \n",
       "family_profile                                                           \n",
       "Family                            0.0  30.0  11.112191    1.0  99999.0   \n",
       "Single Adult                      0.0  30.0  11.082797    1.0  99999.0   \n",
       "\n",
       "                                        \n",
       "                     mean          sum  \n",
       "family_profile                          \n",
       "Family          11.931538  290282560.7  \n",
       "Single Adult    12.130045   98316401.3  "
      ]
     },
     "execution_count": 51,
     "metadata": {},
     "output_type": "execute_result"
    }
   ],
   "source": [
    "# Creating family status statistics\n",
    "family_sums = df_all.groupby(['family_profile']).agg({'days_since_prior_order' : ['min', 'max', 'mean'], 'prices' : ['min', 'max', 'mean', 'sum']})\n",
    "family_sums"
   ]
  },
  {
   "cell_type": "code",
   "execution_count": 52,
   "id": "5f2cd3ef",
   "metadata": {},
   "outputs": [],
   "source": [
    "# Crosstab of families and regions\n",
    "crosstab_region_family = pd.crosstab(df_all['region'], df_all['family_profile'], dropna = False)"
   ]
  },
  {
   "cell_type": "code",
   "execution_count": 53,
   "id": "de4559ea",
   "metadata": {},
   "outputs": [
    {
     "data": {
      "image/png": "[encoded data removed]",
      "text/plain": [
       "<Figure size 640x480 with 1 Axes>"
      ]
     },
     "metadata": {},
     "output_type": "display_data"
    }
   ],
   "source": [
    "# Creating Stacked bar chart of family groups across the regions\n",
    "region_family = crosstab_region_family.plot(kind = 'barh', color = sns.color_palette('Blues', 2))\n",
    "plt.legend(loc='lower right')\n",
    "plt.ylabel('Regions', fontweight = 'bold')\n",
    "plt.title('Family Profile by Region', fontweight = 'bold')\n",
    "plt.show()"
   ]
  },
  {
   "cell_type": "code",
   "execution_count": 54,
   "id": "96af72e7",
   "metadata": {},
   "outputs": [],
   "source": [
    "# Creating crosstab of family profile and department\n",
    "crosstab_dept_family = pd.crosstab(df_all['departments'], df_all['family_profile'], dropna = False)"
   ]
  },
  {
   "cell_type": "code",
   "execution_count": 55,
   "id": "008bf141",
   "metadata": {},
   "outputs": [
    {
     "data": {
      "image/png": "[encoded data removed]",
      "text/plain": [
       "<Figure size 640x480 with 1 Axes>"
      ]
     },
     "metadata": {},
     "output_type": "display_data"
    }
   ],
   "source": [
    "# Creating stacked bar chart of family profiles by department\n",
    "dept_family = crosstab_dept_family.plot(kind = 'barh', stacked = True, color = sns.color_palette('Blues', 2))\n",
    "plt.legend(loc='lower right')\n",
    "plt.ylabel('Department', fontweight = 'bold')\n",
    "plt.title('Family Profile by Department', fontweight = 'bold')\n",
    "plt.show()"
   ]
  },
  {
   "cell_type": "code",
   "execution_count": 56,
   "id": "2f3572c4",
   "metadata": {},
   "outputs": [
    {
     "data": {
      "text/plain": [
       "0    6209632\n",
       "1    5665830\n",
       "6    4500246\n",
       "2    4217766\n",
       "5    4209449\n",
       "3    3844096\n",
       "4    3787193\n",
       "Name: order_dow, dtype: int64"
      ]
     },
     "execution_count": 56,
     "metadata": {},
     "output_type": "execute_result"
    }
   ],
   "source": [
    "# Profiling orders from each day of the week\n",
    "df_all['order_dow'].value_counts(dropna = False)"
   ]
  },
  {
   "cell_type": "code",
   "execution_count": 57,
   "id": "eb3b46c4",
   "metadata": {},
   "outputs": [
    {
     "data": {
      "image/png": "[encoded data removed]",
      "text/plain": [
       "<Figure size 640x480 with 1 Axes>"
      ]
     },
     "metadata": {},
     "output_type": "display_data"
    }
   ],
   "source": [
    "# Creating Pie chart of orders for each day of the week\n",
    "day_of_week_pie = df_all['order_dow'].value_counts().plot.pie(title = 'Day of Week Profile', label = '', autopct = ('%1.f%%'))"
   ]
  },
  {
   "cell_type": "code",
   "execution_count": 58,
   "id": "fed99382",
   "metadata": {},
   "outputs": [
    {
     "data": {
      "text/html": [
       "<div>\n",
       "<style scoped>\n",
       "    .dataframe tbody tr th:only-of-type {\n",
       "        vertical-align: middle;\n",
       "    }\n",
       "\n",
       "    .dataframe tbody tr th {\n",
       "        vertical-align: top;\n",
       "    }\n",
       "\n",
       "    .dataframe thead tr th {\n",
       "        text-align: left;\n",
       "    }\n",
       "\n",
       "    .dataframe thead tr:last-of-type th {\n",
       "        text-align: right;\n",
       "    }\n",
       "</style>\n",
       "<table border=\"1\" class=\"dataframe\">\n",
       "  <thead>\n",
       "    <tr>\n",
       "      <th></th>\n",
       "      <th colspan=\"3\" halign=\"left\">days_since_prior_order</th>\n",
       "      <th colspan=\"4\" halign=\"left\">prices</th>\n",
       "    </tr>\n",
       "    <tr>\n",
       "      <th></th>\n",
       "      <th>min</th>\n",
       "      <th>max</th>\n",
       "      <th>mean</th>\n",
       "      <th>min</th>\n",
       "      <th>max</th>\n",
       "      <th>mean</th>\n",
       "      <th>sum</th>\n",
       "    </tr>\n",
       "    <tr>\n",
       "      <th>order_dow</th>\n",
       "      <th></th>\n",
       "      <th></th>\n",
       "      <th></th>\n",
       "      <th></th>\n",
       "      <th></th>\n",
       "      <th></th>\n",
       "      <th></th>\n",
       "    </tr>\n",
       "  </thead>\n",
       "  <tbody>\n",
       "    <tr>\n",
       "      <th>0</th>\n",
       "      <td>0.0</td>\n",
       "      <td>30.0</td>\n",
       "      <td>11.580899</td>\n",
       "      <td>1.0</td>\n",
       "      <td>99999.0</td>\n",
       "      <td>11.168753</td>\n",
       "      <td>69353847.7</td>\n",
       "    </tr>\n",
       "    <tr>\n",
       "      <th>1</th>\n",
       "      <td>0.0</td>\n",
       "      <td>30.0</td>\n",
       "      <td>11.286885</td>\n",
       "      <td>1.0</td>\n",
       "      <td>99999.0</td>\n",
       "      <td>12.181988</td>\n",
       "      <td>69021070.3</td>\n",
       "    </tr>\n",
       "    <tr>\n",
       "      <th>2</th>\n",
       "      <td>0.0</td>\n",
       "      <td>30.0</td>\n",
       "      <td>11.271796</td>\n",
       "      <td>1.0</td>\n",
       "      <td>99999.0</td>\n",
       "      <td>12.356842</td>\n",
       "      <td>52118267.2</td>\n",
       "    </tr>\n",
       "    <tr>\n",
       "      <th>3</th>\n",
       "      <td>0.0</td>\n",
       "      <td>30.0</td>\n",
       "      <td>10.890156</td>\n",
       "      <td>1.0</td>\n",
       "      <td>99999.0</td>\n",
       "      <td>12.235716</td>\n",
       "      <td>47035265.1</td>\n",
       "    </tr>\n",
       "    <tr>\n",
       "      <th>4</th>\n",
       "      <td>0.0</td>\n",
       "      <td>30.0</td>\n",
       "      <td>10.582256</td>\n",
       "      <td>1.0</td>\n",
       "      <td>99999.0</td>\n",
       "      <td>12.170657</td>\n",
       "      <td>46092628.3</td>\n",
       "    </tr>\n",
       "    <tr>\n",
       "      <th>5</th>\n",
       "      <td>0.0</td>\n",
       "      <td>30.0</td>\n",
       "      <td>10.491822</td>\n",
       "      <td>1.0</td>\n",
       "      <td>99999.0</td>\n",
       "      <td>12.884196</td>\n",
       "      <td>54235366.8</td>\n",
       "    </tr>\n",
       "    <tr>\n",
       "      <th>6</th>\n",
       "      <td>0.0</td>\n",
       "      <td>30.0</td>\n",
       "      <td>11.258889</td>\n",
       "      <td>1.0</td>\n",
       "      <td>99999.0</td>\n",
       "      <td>11.275498</td>\n",
       "      <td>50742516.6</td>\n",
       "    </tr>\n",
       "  </tbody>\n",
       "</table>\n",
       "</div>"
      ],
      "text/plain": [
       "          days_since_prior_order                  prices                      \\\n",
       "                             min   max       mean    min      max       mean   \n",
       "order_dow                                                                      \n",
       "0                            0.0  30.0  11.580899    1.0  99999.0  11.168753   \n",
       "1                            0.0  30.0  11.286885    1.0  99999.0  12.181988   \n",
       "2                            0.0  30.0  11.271796    1.0  99999.0  12.356842   \n",
       "3                            0.0  30.0  10.890156    1.0  99999.0  12.235716   \n",
       "4                            0.0  30.0  10.582256    1.0  99999.0  12.170657   \n",
       "5                            0.0  30.0  10.491822    1.0  99999.0  12.884196   \n",
       "6                            0.0  30.0  11.258889    1.0  99999.0  11.275498   \n",
       "\n",
       "                       \n",
       "                  sum  \n",
       "order_dow              \n",
       "0          69353847.7  \n",
       "1          69021070.3  \n",
       "2          52118267.2  \n",
       "3          47035265.1  \n",
       "4          46092628.3  \n",
       "5          54235366.8  \n",
       "6          50742516.6  "
      ]
     },
     "execution_count": 58,
     "metadata": {},
     "output_type": "execute_result"
    }
   ],
   "source": [
    "# Creating statistics of the day of the week orders profil\n",
    "day_of_week_sums = df_all.groupby(['order_dow']).agg({'days_since_prior_order' : ['min', 'max', 'mean'], 'prices' : ['min', 'max', 'mean', 'sum']})\n",
    "day_of_week_sums"
   ]
  },
  {
   "cell_type": "code",
   "execution_count": 59,
   "id": "75c325ef",
   "metadata": {},
   "outputs": [],
   "source": [
    "# Creating crosstab of day of the week orders and regions\n",
    "crosstab_region_day_of_week = pd.crosstab(df_all['region'], df_all['order_dow'], dropna = False)"
   ]
  },
  {
   "cell_type": "code",
   "execution_count": 60,
   "id": "76381b76",
   "metadata": {},
   "outputs": [
    {
     "data": {
      "image/png": "[encoded data removed]",
      "text/plain": [
       "<Figure size 640x480 with 1 Axes>"
      ]
     },
     "metadata": {},
     "output_type": "display_data"
    }
   ],
   "source": [
    "# Creating stacked bar chart of day of the week orders broken down by regions\n",
    "region_day_of_week = crosstab_region_day_of_week.plot(kind = 'barh', stacked = True, color = sns.color_palette('Blues', 7))\n",
    "plt.legend(loc='lower right')\n",
    "plt.ylabel('Regions', fontweight = 'bold')\n",
    "plt.title('Day of week Orders Profile by Region', fontweight = 'bold')\n",
    "plt.show()"
   ]
  },
  {
   "cell_type": "code",
   "execution_count": 61,
   "id": "b946f25f",
   "metadata": {},
   "outputs": [],
   "source": [
    "# Creating crosstab of orders day of the week and departments\n",
    "crosstab_dept_day_of_week = pd.crosstab(df_all['departments'], df_all['order_dow'], dropna = False)"
   ]
  },
  {
   "cell_type": "code",
   "execution_count": 62,
   "id": "6de33067",
   "metadata": {
    "scrolled": true
   },
   "outputs": [
    {
     "data": {
      "image/png": "[encoded data removed]",
      "text/plain": [
       "<Figure size 640x480 with 1 Axes>"
      ]
     },
     "metadata": {},
     "output_type": "display_data"
    }
   ],
   "source": [
    "# Creating stacked bar chart of orders day of the week broken down by department\n",
    "dept_day_of_week = crosstab_dept_day_of_week.plot(kind = 'barh', stacked = True, color = sns.color_palette('Blues', 7))\n",
    "plt.legend(loc='lower right')\n",
    "plt.ylabel('Departments', fontweight = 'bold')\n",
    "plt.title('Day of Week Orders Profile by Department', fontweight = 'bold')\n",
    "plt.show()"
   ]
  },
  {
   "cell_type": "markdown",
   "id": "5d6ed2f7",
   "metadata": {},
   "source": [
    "# Q10 Exporting Final Data Set"
   ]
  },
  {
   "cell_type": "code",
   "execution_count": 63,
   "id": "f9102a86",
   "metadata": {},
   "outputs": [
    {
     "data": {
      "text/plain": [
       "(32434212, 40)"
      ]
     },
     "execution_count": 63,
     "metadata": {},
     "output_type": "execute_result"
    }
   ],
   "source": [
    "# Checking the current shape\n",
    "df_all.shape"
   ]
  },
  {
   "cell_type": "code",
   "execution_count": 64,
   "id": "bd0e9d7b",
   "metadata": {},
   "outputs": [
    {
     "data": {
      "text/plain": [
       "Index(['Unnamed: 0.1', 'Unnamed: 0', 'order_id', 'user_id', 'eval_set',\n",
       "       'order_number', 'order_dow', 'order_hour_of_day',\n",
       "       'days_since_prior_order', 'product_id', 'add_to_cart_order',\n",
       "       'reordered', 'product_name', 'aisle_id', 'department_id', 'prices',\n",
       "       '_merge', 'price_range_loc', 'busiest_day', 'busiest_days',\n",
       "       'busiest_period_of_day', 'max_order', 'loyalty_flag', 'average_price',\n",
       "       'spending_flag', 'median_prior_orders', 'order_frequency_flag',\n",
       "       'gender', 'state', 'age', 'date_joined', 'number_dependants',\n",
       "       'family_status', 'income', 'region', 'low_order_flag', 'age_profile',\n",
       "       'departments', 'income_profile', 'family_profile'],\n",
       "      dtype='object')"
      ]
     },
     "execution_count": 64,
     "metadata": {},
     "output_type": "execute_result"
    }
   ],
   "source": [
    "df_all.columns"
   ]
  },
  {
   "cell_type": "code",
   "execution_count": 65,
   "id": "021b7016",
   "metadata": {},
   "outputs": [],
   "source": [
    "# Removing un-needed columns\n",
    "df_all = df_all.drop(columns = ['Unnamed: 0.1', 'Unnamed: 0', 'aisle_id'])"
   ]
  },
  {
   "cell_type": "code",
   "execution_count": 66,
   "id": "4937ae6f",
   "metadata": {},
   "outputs": [
    {
     "data": {
      "text/plain": [
       "(32434212, 37)"
      ]
     },
     "execution_count": 66,
     "metadata": {},
     "output_type": "execute_result"
    }
   ],
   "source": [
    "# Checking the new shape\n",
    "df_all.shape"
   ]
  },
  {
   "cell_type": "code",
   "execution_count": 67,
   "id": "73e2f528",
   "metadata": {},
   "outputs": [],
   "source": [
    "age_profile_pie.figure.savefig(os.path.join(path, 'Analysis','Visualizations', 'age_profile_pie.png'))"
   ]
  },
  {
   "cell_type": "code",
   "execution_count": 68,
   "id": "042443b4",
   "metadata": {},
   "outputs": [],
   "source": [
    "region_age.figure.savefig(os.path.join(path, 'Analysis','Visualizations', 'region_age.png'))"
   ]
  },
  {
   "cell_type": "code",
   "execution_count": 69,
   "id": "c525e481",
   "metadata": {},
   "outputs": [],
   "source": [
    "dept_age.figure.savefig(os.path.join(path, 'Analysis','Visualizations', 'dept_age.png'))"
   ]
  },
  {
   "cell_type": "code",
   "execution_count": 70,
   "id": "93be631e",
   "metadata": {},
   "outputs": [],
   "source": [
    "income_profile_pie.figure.savefig(os.path.join(path, 'Analysis','Visualizations', 'income_profile_pie.png'))"
   ]
  },
  {
   "cell_type": "code",
   "execution_count": 71,
   "id": "4968e3e9",
   "metadata": {},
   "outputs": [],
   "source": [
    "region_income.figure.savefig(os.path.join(path, 'Analysis','Visualizations', 'region_income.png'))"
   ]
  },
  {
   "cell_type": "code",
   "execution_count": 72,
   "id": "e1c5f069",
   "metadata": {},
   "outputs": [],
   "source": [
    "dept_income.figure.savefig(os.path.join(path, 'Analysis','Visualizations', 'dept_income.png'))"
   ]
  },
  {
   "cell_type": "code",
   "execution_count": 73,
   "id": "1664cec4",
   "metadata": {},
   "outputs": [],
   "source": [
    "family_profile_pie.figure.savefig(os.path.join(path, 'Analysis','Visualizations', 'family_profile_pie.png'))"
   ]
  },
  {
   "cell_type": "code",
   "execution_count": 74,
   "id": "5769acd6",
   "metadata": {},
   "outputs": [],
   "source": [
    "region_family.figure.savefig(os.path.join(path, 'Analysis','Visualizations', 'region_family.png'))"
   ]
  },
  {
   "cell_type": "code",
   "execution_count": 75,
   "id": "3b1626ff",
   "metadata": {},
   "outputs": [],
   "source": [
    "dept_family.figure.savefig(os.path.join(path, 'Analysis','Visualizations', 'dept_family.png'))"
   ]
  },
  {
   "cell_type": "code",
   "execution_count": 76,
   "id": "eadfa900",
   "metadata": {},
   "outputs": [],
   "source": [
    "day_of_week_pie.figure.savefig(os.path.join(path, 'Analysis','Visualizations', 'day_of_week_pie.png'))"
   ]
  },
  {
   "cell_type": "code",
   "execution_count": 77,
   "id": "680ebf58",
   "metadata": {},
   "outputs": [],
   "source": [
    "region_day_of_week.figure.savefig(os.path.join(path, 'Analysis','Visualizations', 'region_day_of_week.png'))"
   ]
  },
  {
   "cell_type": "code",
   "execution_count": 78,
   "id": "ff673b94",
   "metadata": {},
   "outputs": [],
   "source": [
    "dept_day_of_week.figure.savefig(os.path.join(path, 'Analysis','Visualizations', 'dept_day_of_week.png'))"
   ]
  },
  {
   "cell_type": "code",
   "execution_count": 79,
   "id": "7e68def5",
   "metadata": {},
   "outputs": [],
   "source": [
    "df_all.to_pickle(os.path.join(path, 'Data','Prepared Data', 'final_dataset.pkl'))"
   ]
  },
  {
   "cell_type": "code",
   "execution_count": null,
   "id": "f9f8786e",
   "metadata": {},
   "outputs": [],
   "source": []
  }
 ],
 "metadata": {
  "kernelspec": {
   "display_name": "Python 3 (ipykernel)",
   "language": "python",
   "name": "python3"
  },
  "language_info": {
   "codemirror_mode": {
    "name": "ipython",
    "version": 3
   },
   "file_extension": ".py",
   "mimetype": "text/x-python",
   "name": "python",
   "nbconvert_exporter": "python",
   "pygments_lexer": "ipython3",
   "version": "3.9.13"
  }
 },
 "nbformat": 4,
 "nbformat_minor": 5
}
