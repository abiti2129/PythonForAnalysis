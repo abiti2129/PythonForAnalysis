{
 "cells": [
  {
   "cell_type": "code",
   "execution_count": 1,
   "id": "1c593582",
   "metadata": {},
   "outputs": [
    {
     "data": {
      "text/plain": [
       "4"
      ]
     },
     "execution_count": 1,
     "metadata": {},
     "output_type": "execute_result"
    }
   ],
   "source": [
    "2+2"
   ]
  },
  {
   "cell_type": "code",
   "execution_count": 1,
   "id": "8e355861",
   "metadata": {},
   "outputs": [],
   "source": [
    "# Import libraries\n",
    "import pandas as pd\n",
    "import numpy as np\n",
    "import os"
   ]
  },
  {
   "cell_type": "code",
   "execution_count": 2,
   "id": "ab281117",
   "metadata": {},
   "outputs": [],
   "source": [
    "# Python Data Types"
   ]
  },
  {
   "cell_type": "code",
   "execution_count": 3,
   "id": "ccaae798",
   "metadata": {},
   "outputs": [
    {
     "data": {
      "text/plain": [
       "100"
      ]
     },
     "execution_count": 3,
     "metadata": {},
     "output_type": "execute_result"
    }
   ],
   "source": [
    "20 + 80\n"
   ]
  },
  {
   "cell_type": "code",
   "execution_count": 4,
   "id": "1a5f0be7",
   "metadata": {},
   "outputs": [
    {
     "data": {
      "text/plain": [
       "100"
      ]
     },
     "execution_count": 4,
     "metadata": {},
     "output_type": "execute_result"
    }
   ],
   "source": [
    "150 - 50"
   ]
  },
  {
   "cell_type": "code",
   "execution_count": 5,
   "id": "310192a9",
   "metadata": {},
   "outputs": [
    {
     "data": {
      "text/plain": [
       "100"
      ]
     },
     "execution_count": 5,
     "metadata": {},
     "output_type": "execute_result"
    }
   ],
   "source": [
    "37 + 63"
   ]
  },
  {
   "cell_type": "code",
   "execution_count": 6,
   "id": "0a76eec9",
   "metadata": {},
   "outputs": [],
   "source": [
    "x = 2.4"
   ]
  },
  {
   "cell_type": "code",
   "execution_count": 7,
   "id": "c2190b88",
   "metadata": {},
   "outputs": [],
   "source": [
    "y = 4.2"
   ]
  },
  {
   "cell_type": "code",
   "execution_count": 8,
   "id": "a4ac3406",
   "metadata": {},
   "outputs": [
    {
     "data": {
      "text/plain": [
       "1.7500000000000002"
      ]
     },
     "execution_count": 8,
     "metadata": {},
     "output_type": "execute_result"
    }
   ],
   "source": [
    "y /x"
   ]
  },
  {
   "cell_type": "code",
   "execution_count": 10,
   "id": "2251caf4",
   "metadata": {},
   "outputs": [],
   "source": [
    "x = 'd'"
   ]
  },
  {
   "cell_type": "code",
   "execution_count": 11,
   "id": "b33d4fa1",
   "metadata": {},
   "outputs": [],
   "source": [
    "y = 'anger'"
   ]
  },
  {
   "cell_type": "code",
   "execution_count": 12,
   "id": "cd87a09e",
   "metadata": {},
   "outputs": [
    {
     "data": {
      "text/plain": [
       "'danger'"
      ]
     },
     "execution_count": 12,
     "metadata": {},
     "output_type": "execute_result"
    }
   ],
   "source": [
    "x + y"
   ]
  },
  {
   "cell_type": "code",
   "execution_count": 13,
   "id": "c6518007",
   "metadata": {},
   "outputs": [],
   "source": [
    "x = 'python is'"
   ]
  },
  {
   "cell_type": "code",
   "execution_count": 17,
   "id": "de143986",
   "metadata": {},
   "outputs": [],
   "source": [
    "y = ' very interesting'"
   ]
  },
  {
   "cell_type": "code",
   "execution_count": 18,
   "id": "8cb4fca5",
   "metadata": {},
   "outputs": [
    {
     "data": {
      "text/plain": [
       "'python is very interesting'"
      ]
     },
     "execution_count": 18,
     "metadata": {},
     "output_type": "execute_result"
    }
   ],
   "source": [
    "x + y"
   ]
  },
  {
   "cell_type": "code",
   "execution_count": 19,
   "id": "c9fe6bdf",
   "metadata": {},
   "outputs": [],
   "source": [
    "x = ' I am '"
   ]
  },
  {
   "cell_type": "code",
   "execution_count": 20,
   "id": "8df9f0be",
   "metadata": {},
   "outputs": [],
   "source": [
    "y = 'liking it'"
   ]
  },
  {
   "cell_type": "code",
   "execution_count": 21,
   "id": "3c6bcf49",
   "metadata": {},
   "outputs": [
    {
     "data": {
      "text/plain": [
       "' I am liking it'"
      ]
     },
     "execution_count": 21,
     "metadata": {},
     "output_type": "execute_result"
    }
   ],
   "source": [
    "x + y"
   ]
  },
  {
   "cell_type": "code",
   "execution_count": null,
   "id": "faa918ac",
   "metadata": {},
   "outputs": [],
   "source": []
  }
 ],
 "metadata": {
  "kernelspec": {
   "display_name": "Python 3 (ipykernel)",
   "language": "python",
   "name": "python3"
  },
  "language_info": {
   "codemirror_mode": {
    "name": "ipython",
    "version": 3
   },
   "file_extension": ".py",
   "mimetype": "text/x-python",
   "name": "python",
   "nbconvert_exporter": "python",
   "pygments_lexer": "ipython3",
   "version": "3.9.13"
  }
 },
 "nbformat": 4,
 "nbformat_minor": 5
}
